{
 "cells": [
  {
   "cell_type": "code",
   "execution_count": 1,
   "metadata": {},
   "outputs": [],
   "source": [
    "import pandas as pd"
   ]
  },
  {
   "cell_type": "code",
   "execution_count": 2,
   "metadata": {},
   "outputs": [],
   "source": [
    "# Summon data.\n",
    "sas_vn = pd.read_csv('./data/sas_vn.csv')[['IDNAME','ID']]\n",
    "merged = pd.read_csv('./data/merged.csv').rename(columns={\"province\": \"IDNAME\"})\n",
    "\n",
    "# Lowercase sas_vn and replace its incorrect names.\n",
    "sas_vn['IDNAME'] = sas_vn['IDNAME'].str.lower()\n",
    "sas_vn['IDNAME'] = sas_vn['IDNAME'].replace(\n",
    "    ['thanh pho hai phong','thanh pho ho chi minh','ba ria-vung tau'],\n",
    "    ['hai phong','ho chi minh city','ba ria - vung tau'])"
   ]
  },
  {
   "cell_type": "code",
   "execution_count": 3,
   "metadata": {},
   "outputs": [],
   "source": [
    "# Write to csv.\n",
    "final = pd.merge(sas_vn,merged)\n",
    "final.to_csv('./data/sas_merged.csv',\n",
    "            index=False)"
   ]
  }
 ],
 "metadata": {
  "kernelspec": {
   "display_name": "maplapse",
   "language": "python",
   "name": "python3"
  },
  "language_info": {
   "codemirror_mode": {
    "name": "ipython",
    "version": 3
   },
   "file_extension": ".py",
   "mimetype": "text/x-python",
   "name": "python",
   "nbconvert_exporter": "python",
   "pygments_lexer": "ipython3",
   "version": "3.12.3"
  }
 },
 "nbformat": 4,
 "nbformat_minor": 2
}

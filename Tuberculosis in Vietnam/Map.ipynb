{
 "cells": [
  {
   "cell_type": "markdown",
   "metadata": {},
   "source": [
    "https://towardsdatascience.com/simple-plotly-tutorials-868bd0890b8b"
   ]
  },
  {
   "cell_type": "markdown",
   "metadata": {},
   "source": [
    "# Initialization"
   ]
  },
  {
   "cell_type": "code",
   "execution_count": null,
   "metadata": {},
   "outputs": [],
   "source": [
    "import pandas as pd\n",
    "import plotly.express as px\n",
    "import geojson\n",
    "import geoplot\n",
    "import geopandas as gpd\n",
    "import geoplot.crs as gcrs\n",
    "from maplapse import Animator"
   ]
  },
  {
   "cell_type": "markdown",
   "metadata": {},
   "source": [
    "# Summon Data"
   ]
  },
  {
   "cell_type": "code",
   "execution_count": null,
   "metadata": {},
   "outputs": [],
   "source": [
    "data = pd.read_csv(\"./data/merged_yq.csv\",parse_dates = [11])\n",
    "data.sort_values(by = 'year_quarter',inplace = True)"
   ]
  },
  {
   "cell_type": "code",
   "execution_count": null,
   "metadata": {},
   "outputs": [],
   "source": [
    "# Only used for Plotly.\n",
    "map_data = gpd.read_file(\"./data/merged_map_provinces.geojson\")\n",
    "map_data.to_crs(epsg = 4326,inplace = True)"
   ]
  },
  {
   "cell_type": "markdown",
   "metadata": {},
   "source": [
    "# Build map"
   ]
  },
  {
   "cell_type": "code",
   "execution_count": null,
   "metadata": {},
   "outputs": [],
   "source": [
    "# Tuberculosis raw rate\n",
    "anim = Animator(shape='./data/merged_map_provinces.shp',\n",
    "             SHAPE_RESTORE_SHX = 'yes',\n",
    "             value='./data/merged_yq.csv',\n",
    "             time_column='year_quarter',\n",
    "             data_column='incidence',\n",
    "             shape_unique_column='province',\n",
    "             map_title = 'Tuberculosis incidence rate, quarterly',\n",
    "             legend_title = 'Incidence rate',\n",
    "             map_type='choropleth',\n",
    "             poly_line_color = 'black',\n",
    "             poly_line_width = 10,\n",
    "             cmap = \"turbo\",\n",
    "             out_path='./outputs/python/vn_tb_raw.gif')\n",
    "\n",
    "anim.animate(duration=1200)"
   ]
  },
  {
   "cell_type": "code",
   "execution_count": null,
   "metadata": {},
   "outputs": [],
   "source": [
    "# Tuberculosis difference \n",
    "anim = Animator(shape='./data/merged_map_provinces.shp',\n",
    "             SHAPE_RESTORE_SHX = 'yes',\n",
    "             value='./data/merged_yq.csv',\n",
    "             time_column='year_quarter',\n",
    "             data_column='diff',\n",
    "             shape_unique_column='province',\n",
    "             map_title = 'Tuberculosis incidence rate difference, quarterly',\n",
    "             legend_title = 'Incidence rate change',\n",
    "             map_type='choropleth',\n",
    "             poly_line_color = 'black',\n",
    "             poly_line_width = 10,\n",
    "             cmap = \"turbo\",\n",
    "             out_path='./outputs/python/vn_tb_diff.gif')\n",
    "\n",
    "anim.animate(duration=1200)"
   ]
  },
  {
   "cell_type": "markdown",
   "metadata": {},
   "source": [
    "# Plotly Express"
   ]
  },
  {
   "cell_type": "code",
   "execution_count": null,
   "metadata": {},
   "outputs": [],
   "source": [
    "# Raw rates per quarter.\n",
    "fig = px.choropleth_mapbox(data, \n",
    "    geojson = map_data, \n",
    "    featureidkey = 'properties.province',\n",
    "    locations = 'province', \n",
    "    color = 'incidence', \n",
    "    center = {'lat': 15.6, 'lon': 106.5},\n",
    "    zoom = 4.75,\n",
    "    animation_frame = 'year_quarter',\n",
    "    mapbox_style = 'white-bg',\n",
    "    width = 600,\n",
    "    height = 1000,\n",
    "    range_color = (0,55),\n",
    "    color_continuous_scale = [[0, 'green'], [0.5, 'yellow'], [1.0, 'red']],\n",
    "    title = 'Vietnamese tuberculosis, quarterly')\n",
    "\n",
    "fig.layout.updatemenus[0].buttons[0].args[1][\"frame\"][\"duration\"] = 600\n",
    "\n",
    "fig.show()\n",
    "fig.write_html('./outputs/python/raw_map.html')"
   ]
  },
  {
   "cell_type": "code",
   "execution_count": null,
   "metadata": {},
   "outputs": [],
   "source": [
    "# % change per quarter.\n",
    "fig = px.choropleth_mapbox(data, \n",
    "    geojson = map_data, \n",
    "    featureidkey = 'properties.province',\n",
    "    locations = 'province', \n",
    "    color = 'diff', \n",
    "    center = {'lat': 15.7, 'lon': 106.5},\n",
    "    zoom = 4.75,\n",
    "    animation_frame = 'year_quarter',\n",
    "    mapbox_style = 'white-bg',\n",
    "    width = 600,\n",
    "    height = 1000,\n",
    "    range_color = (-1,2),\n",
    "    color_continuous_scale = [[0, 'green'], [0.5, 'yellow'], [1.0, 'red']],\n",
    "    title = 'Vietnamese tuberculosis, quarterly')\n",
    "\n",
    "fig.layout.updatemenus[0].buttons[0].args[1][\"frame\"][\"duration\"] = 600\n",
    "\n",
    "fig.show()\n",
    "fig.write_html('./outputs/python/diff_map.html')"
   ]
  }
 ],
 "metadata": {
  "kernelspec": {
   "display_name": "maplapse",
   "language": "python",
   "name": "python3"
  },
  "language_info": {
   "codemirror_mode": {
    "name": "ipython",
    "version": 3
   },
   "file_extension": ".py",
   "mimetype": "text/x-python",
   "name": "python",
   "nbconvert_exporter": "python",
   "pygments_lexer": "ipython3",
   "version": "3.12.3"
  }
 },
 "nbformat": 4,
 "nbformat_minor": 2
}

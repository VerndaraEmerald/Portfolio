{
 "cells": [
  {
   "cell_type": "code",
   "execution_count": 13,
   "metadata": {},
   "outputs": [],
   "source": [
    "import csv"
   ]
  },
  {
   "cell_type": "code",
   "execution_count": 14,
   "metadata": {},
   "outputs": [],
   "source": [
    "def appending(bind,added):\n",
    "    # If nonnegative, simply concatenates the string with an addition sign.\n",
    "    if '-' not in added:\n",
    "        bind += ' + ' + added\n",
    "    # If negative, adds a space between the negative and the parameter name.\n",
    "    # After that, concatenates.\n",
    "    else:\n",
    "        str1 = added[0:1] + ' ' + added[1:]\n",
    "        bind += ' ' + str1\n",
    "    return(bind)"
   ]
  },
  {
   "cell_type": "code",
   "execution_count": 15,
   "metadata": {},
   "outputs": [
    {
     "name": "stdout",
     "output_type": "stream",
     "text": [
      "-13.0163 - 10.2052 \\cdot Intercept2 0 .2925 \\cdot Pre-Math Applied 0 .1283 \\cdot Pre-Math Education 0 .0063 \\cdot Pre-Mathematics + 2.5855 \\cdot HS_GPA + 0.1075 \\cdot Asian + 0.2808 \\cdot Black or African American + 0.1763 \\cdot Hispanic + 0.1931 \\cdot Other + 0.0302 \\cdot Female + 1.3819 \\cdot Local\n"
     ]
    }
   ],
   "source": [
    "with open(r'temp_outputs/text.csv', mode = 'r') as file:\n",
    "    # Convert the file into a list.\n",
    "    csv = list(csv.reader(file))\n",
    "    # Initiaize to second row, first column.\n",
    "    row = 2\n",
    "    col = 0\n",
    "    # If there are no categoricals, the second column says DF.\n",
    "    if csv[0][1] == \"DF\":\n",
    "        # Set bind to intercept.\n",
    "        bind = csv[1][2]\n",
    "        while row < (len(csv)-1):\n",
    "            if csv[row][1] == '1':\n",
    "                if (csv[row][1] != ''):\n",
    "                    # Parameter name is in the first column.\n",
    "                    # Estimate is in the third column.\n",
    "                    parameter = (csv[row][0])\n",
    "                    estimate = (csv[row][2])\n",
    "                    added = estimate + ' \\cdot ' + parameter\n",
    "                    bind = appending(bind,added)\n",
    "                    # Move 1 row down.\n",
    "                    row += 1\n",
    "                else:\n",
    "                    # Parameter name is in the first column.\n",
    "                    # However, the category name is in the first column.\n",
    "                    # Estimate is in the third column.\n",
    "                    parameter = (csv[row][0])\n",
    "                    estimate = (csv[row][2])\n",
    "                    added = estimate + ' \\cdot ' + parameter\n",
    "                    bind = appending(bind,added)\n",
    "                    # Move 1 row down.\n",
    "                    row += 1\n",
    "            else:\n",
    "                row += 1\n",
    "    # If there are categoricals, the second column does not say DF.\n",
    "    # This moves everything after parameter one column more.\n",
    "    else:\n",
    "        # Grab intercept.\n",
    "        bind = csv[1][3]\n",
    "        # Do this while it's shorter than the csv.\n",
    "        while row < (len(csv)-1):\n",
    "            # Grab if DF is 1.\n",
    "            # DF = 0 occurs with reference variables.\n",
    "            if csv[row][2] == '1':\n",
    "                # Has a Level.\n",
    "                if (csv[row][1] == ''):\n",
    "                    # Parameter name is in the first column.\n",
    "                    # Estimate is in the fourth column.\n",
    "                    parameter = (csv[row][0])\n",
    "                    estimate = (csv[row][3])\n",
    "                    added = estimate + ' \\cdot ' + parameter\n",
    "                    bind = appending(bind,added)\n",
    "                    # Move 1 row down.\n",
    "                    row += 1\n",
    "                # No Level.\n",
    "                else:\n",
    "                    # Parameter name is in the first column.\n",
    "                    # However, the category name is in the second column.\n",
    "                    # Estimate is in the fourth column.\n",
    "                    parameter = (csv[row][1])\n",
    "                    estimate = (csv[row][3])\n",
    "                    added = estimate + ' \\cdot ' + parameter\n",
    "                    bind = appending(bind,added)\n",
    "                    # Move 1 row down.\n",
    "                    row += 1\n",
    "            else:\n",
    "                row += 1\n",
    "\n",
    "print(bind)"
   ]
  }
 ],
 "metadata": {
  "kernelspec": {
   "display_name": "regressions",
   "language": "python",
   "name": "python3"
  },
  "language_info": {
   "codemirror_mode": {
    "name": "ipython",
    "version": 3
   },
   "file_extension": ".py",
   "mimetype": "text/x-python",
   "name": "python",
   "nbconvert_exporter": "python",
   "pygments_lexer": "ipython3",
   "version": "3.11.5"
  }
 },
 "nbformat": 4,
 "nbformat_minor": 2
}

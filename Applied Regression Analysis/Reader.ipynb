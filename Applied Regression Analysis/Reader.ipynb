{
 "cells": [
  {
   "cell_type": "code",
   "execution_count": 5,
   "metadata": {},
   "outputs": [],
   "source": [
    "import csv"
   ]
  },
  {
   "cell_type": "code",
   "execution_count": 6,
   "metadata": {},
   "outputs": [],
   "source": [
    "def appending(bind,added):\n",
    "    # If nonnegative, simply concatenates the string with an addition sign.\n",
    "    if '-' not in added:\n",
    "        bind += ' + ' + added\n",
    "    # If negative, adds a space between the negative and the parameter name.\n",
    "    # After that, concatenates.\n",
    "    else:\n",
    "        str1 = added[0:1] + ' ' + added[1:]\n",
    "        bind += ' ' + str1\n",
    "    return(bind)"
   ]
  },
  {
   "cell_type": "code",
   "execution_count": 7,
   "metadata": {},
   "outputs": [
    {
     "name": "stdout",
     "output_type": "stream",
     "text": [
      "-2.6005 - 1.7878 \\cdot Intercept2 - 1.0295 \\cdot Intercept3 + 0.1114 \\cdot Intercept4 - 0.0061 \\cdot subscribed + 1.2027 \\cdot no + 0.8809 \\cdot no\n"
     ]
    }
   ],
   "source": [
    "with open(r'temp outputs/text.csv', mode = 'r') as file:\n",
    "    # Convert the file into a list.\n",
    "    csv = list(csv.reader(file))\n",
    "    # Initiaize to second row, first column.\n",
    "    row = 2\n",
    "    col = 0\n",
    "    # If there are no categoricals, the second column says DF.\n",
    "    if csv[0][1] == \"DF\":\n",
    "        # Set bind to intercept.\n",
    "        bind = csv[1][2]\n",
    "        while row < (len(csv)-1):\n",
    "            if csv[row][1] == '1':\n",
    "                if (csv[row][1] != ''):\n",
    "                    # Parameter name is in the first column.\n",
    "                    # Estimate is in the third column.\n",
    "                    parameter = (csv[row][0])\n",
    "                    estimate = (csv[row][2])\n",
    "                    added = estimate + ' \\cdot ' + parameter\n",
    "                    bind = appending(bind,added)\n",
    "                    # Move 1 row down.\n",
    "                    row += 1\n",
    "                else:\n",
    "                    # Parameter name is in the first column.\n",
    "                    # However, the category name is in the first column.\n",
    "                    # Estimate is in the third column.\n",
    "                    parameter = (csv[row][0])\n",
    "                    estimate = (csv[row][2])\n",
    "                    added = estimate + ' \\cdot ' + parameter\n",
    "                    bind = appending(bind,added)\n",
    "                    # Move 1 row down.\n",
    "                    row += 1\n",
    "            else:\n",
    "                row += 1\n",
    "    # If there are categoricals, the second column does not say DF.\n",
    "    # This moves everything after parameter one column more.\n",
    "    else:\n",
    "        # Grab intercept.\n",
    "        bind = csv[1][3]\n",
    "        # Do this while it's shorter than the csv.\n",
    "        while row < (len(csv)-1):\n",
    "            # Grab if DF is 1.\n",
    "            # DF = 0 occurs with reference variables.\n",
    "            if csv[row][2] == '1':\n",
    "                # Has a Level.\n",
    "                if (csv[row][1] == ''):\n",
    "                    # Parameter name is in the first column.\n",
    "                    # Estimate is in the fourth column.\n",
    "                    parameter = (csv[row][0])\n",
    "                    estimate = (csv[row][3])\n",
    "                    added = estimate + ' \\cdot ' + parameter\n",
    "                    bind = appending(bind,added)\n",
    "                    # Move 1 row down.\n",
    "                    row += 1\n",
    "                # No Level.\n",
    "                else:\n",
    "                    # Parameter name is in the first column.\n",
    "                    # However, the category name is in the second column.\n",
    "                    # Estimate is in the fourth column.\n",
    "                    parameter = (csv[row][1])\n",
    "                    estimate = (csv[row][3])\n",
    "                    added = estimate + ' \\cdot ' + parameter\n",
    "                    bind = appending(bind,added)\n",
    "                    # Move 1 row down.\n",
    "                    row += 1\n",
    "            else:\n",
    "                row += 1\n",
    "\n",
    "print(bind)"
   ]
  }
 ],
 "metadata": {
  "kernelspec": {
   "display_name": "regressions",
   "language": "python",
   "name": "python3"
  },
  "language_info": {
   "codemirror_mode": {
    "name": "ipython",
    "version": 3
   },
   "file_extension": ".py",
   "mimetype": "text/x-python",
   "name": "python",
   "nbconvert_exporter": "python",
   "pygments_lexer": "ipython3",
   "version": "3.11.5"
  }
 },
 "nbformat": 4,
 "nbformat_minor": 2
}

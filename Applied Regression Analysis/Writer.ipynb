{
 "cells": [
  {
   "cell_type": "markdown",
   "metadata": {},
   "source": [
    "Libraries."
   ]
  },
  {
   "cell_type": "code",
   "execution_count": 1,
   "metadata": {},
   "outputs": [],
   "source": [
    "import csv\n",
    "import re"
   ]
  },
  {
   "cell_type": "markdown",
   "metadata": {},
   "source": [
    "Acquire variables."
   ]
  },
  {
   "cell_type": "code",
   "execution_count": 2,
   "metadata": {},
   "outputs": [],
   "source": [
    "def acquire_variables(Ex_Num):\n",
    "    # Get file and open blank binding value.\n",
    "    name = (f\"./Data/Exercise{Ex_Num}Data\")\n",
    "    bind = \"\"\n",
    "    with open(f\"{name}.csv\", mode = 'r') as file:\n",
    "        # Opens file for reading. Converts the csv into a list, then finds the number of columns.\n",
    "        item = list(csv.reader(file))\n",
    "        columns = len(item[0])\n",
    "        row = 1\n",
    "        col = 0\n",
    "        while col < columns:\n",
    "        # Iterates through the first row of values. If it's character-based, append a $. If not, don't.\n",
    "        # In both cases, go up one row. Grab this value for a variable name.\n",
    "        # Proceed one column forward. \n",
    "        # If that column is the final column, it will append to bind without an extra space.\n",
    "        # If not, it will append to bind with an extra space.\n",
    "            if item[row][col].isalpha():\n",
    "                row -= 1\n",
    "                temp = item[row][col]\n",
    "                col +=1\n",
    "                bind += (f\" {temp}$\")\n",
    "                row += 1\n",
    "            else:\n",
    "                row -= 1\n",
    "                temp = item[row][col]\n",
    "                col +=1\n",
    "                bind += (f\" {temp}\")\n",
    "                row += 1\n",
    "        # Standardizes all components to be lowercase.\n",
    "        bind = bind.lower()\n",
    "        return(bind)"
   ]
  },
  {
   "cell_type": "markdown",
   "metadata": {},
   "source": [
    "Call the data."
   ]
  },
  {
   "cell_type": "code",
   "execution_count": 3,
   "metadata": {},
   "outputs": [],
   "source": [
    "def call_data(Ex_Name,Ex_Num,variables,transformed):\n",
    "    initial_data = (f\"\"\"/* Call data. */\n",
    "data {Ex_Name};\n",
    " infile '../../Data/Exercise{Ex_Num}Data.csv' dlm=',' firstobs = 2;\n",
    " input{variables};{transformed}\n",
    "run; \"\"\")\n",
    "    return(initial_data)"
   ]
  },
  {
   "cell_type": "markdown",
   "metadata": {},
   "source": [
    "Modify y variables."
   ]
  },
  {
   "cell_type": "code",
   "execution_count": 4,
   "metadata": {},
   "outputs": [],
   "source": [
    "def modify_y(y_val):\n",
    "    new = input(\"Set name: \")\n",
    "    equation = input(\"Set new value: \")\n",
    "    equation = (f\"\\n{new} = {y_val}{equation};\")\n",
    "    return new,equation"
   ]
  },
  {
   "cell_type": "markdown",
   "metadata": {},
   "source": [
    "Modify x variables."
   ]
  },
  {
   "cell_type": "code",
   "execution_count": 5,
   "metadata": {},
   "outputs": [],
   "source": [
    "def modify_x(predictors):\n",
    "    inputting = 0\n",
    "    equation = \"\"\n",
    "    while inputting == 0:\n",
    "        # Asks for user input to discard. n breaks cycle\n",
    "        print(f\"Current selection:{predictors}\")\n",
    "        purge = input(\"Write original predictor: \")\n",
    "        if purge == \"n\":\n",
    "            inputting = 1\n",
    "            break\n",
    "        else:\n",
    "            new = input(f\"Set name for {purge}: \")\n",
    "            predictors = re.sub(rf'\\b{purge}\\b',f\"{new}\",predictors)\n",
    "            alter = input(\"Set new value: \")\n",
    "            equation += (f\"\\n{new} = {purge}{alter};\")\n",
    "    return predictors,equation"
   ]
  },
  {
   "cell_type": "markdown",
   "metadata": {},
   "source": [
    "Test for normality."
   ]
  },
  {
   "cell_type": "code",
   "execution_count": 6,
   "metadata": {},
   "outputs": [],
   "source": [
    "def test_normality(Ex_Num,y_val):\n",
    "    histogram = (f\"\"\"/* Test normality. */\n",
    "ods listing gpath='../../temp outputs';\n",
    "ods graphics / imagename = \"histogram\" imagefmt = png;\n",
    "proc univariate;\n",
    " var {y_val};\n",
    " histogram/normal;\n",
    " ODS select Histogram;\n",
    " ODS select GoodnessOfFit;\n",
    "run;\"\"\")\n",
    "    return(histogram)"
   ]
  },
  {
   "cell_type": "markdown",
   "metadata": {},
   "source": [
    "Fitted model."
   ]
  },
  {
   "cell_type": "code",
   "execution_count": 7,
   "metadata": {},
   "outputs": [],
   "source": [
    "def fitted_model(Ex_Name,y_val,predictors,dist,link):\n",
    "    # Creates empty classes section for categoricals. Splits the predictors.\n",
    "    classes = \"\"\n",
    "    string = predictors.split()\n",
    "    for each in string:\n",
    "        if \"$\" in each:\n",
    "            classes += each + \" \"\n",
    "    classes = classes.rstrip().replace(\"$\",\"\")\n",
    "    predictors = predictors.replace(\"$\",\"\")\n",
    "    mod_fit = (f\"\"\"/* Fitted model. Uses ods output to enable copying. */\n",
    "ods output ModelFit=ModelFit;\n",
    "ods output ParameterEstimates=ParameterEstimates;\n",
    "proc genmod data={Ex_Name};\n",
    " class {classes};\n",
    " model {y_val}={predictors}/dist={dist} link={link};\n",
    " ODS select ModelFit;\n",
    " ODS select ParameterEstimates;\n",
    "run;\"\"\")\n",
    "    return(mod_fit)"
   ]
  },
  {
   "cell_type": "markdown",
   "metadata": {},
   "source": [
    "Null model."
   ]
  },
  {
   "cell_type": "code",
   "execution_count": 8,
   "metadata": {},
   "outputs": [],
   "source": [
    "def null_model(Ex_Name,y_val,dist,link):\n",
    "    unfit = (f\"\"\"/* Null model. Uses ods output to enable copying.*/\n",
    "ods output ModelFit=ModelFit;\n",
    "proc genmod data={Ex_Name};\n",
    " model {y_val}=/dist={dist} link={link};\n",
    " ODS select ModelFit;\n",
    " ODS select ParameterEstimates;\n",
    "run;\"\"\")\n",
    "    return(unfit)"
   ]
  },
  {
   "cell_type": "markdown",
   "metadata": {},
   "source": [
    "Get values for prediction."
   ]
  },
  {
   "cell_type": "code",
   "execution_count": 9,
   "metadata": {},
   "outputs": [],
   "source": [
    "def predicted(predictors,predictions):\n",
    "    predict = (f\"\"\"/* Set prediction values. */\n",
    "data predict;\n",
    "input {predictors}; cards;\n",
    "{predictions}\n",
    "run;\"\"\")\n",
    "    return(predict)"
   ]
  },
  {
   "cell_type": "markdown",
   "metadata": {},
   "source": [
    "Calculate predicted."
   ]
  },
  {
   "cell_type": "code",
   "execution_count": 10,
   "metadata": {},
   "outputs": [],
   "source": [
    "def predicted_model(y_val,predictors,dist,link):\n",
    "    classes = \"\"\n",
    "    string = predictors.split()\n",
    "    for each in string:\n",
    "        if \"$\" in each:\n",
    "            classes += each + \" \"\n",
    "    classes = classes.rstrip().replace(\"$\",\"\")\n",
    "    predictors = predictors.replace(\"$\",\"\")\n",
    "    mod_fit = (f\"\"\"/* Predicted model. */\n",
    "proc genmod;\n",
    " class {classes};\n",
    " model {y_val} ={predictors}/dist={dist} link={link};\n",
    " output out=outdata p=p{y_val};\n",
    " ODS select ModelFit;\n",
    " ODS select ParameterEstimates;\n",
    "run;\"\"\")\n",
    "    return(mod_fit)"
   ]
  },
  {
   "cell_type": "markdown",
   "metadata": {},
   "source": [
    "Select all inputs."
   ]
  },
  {
   "cell_type": "code",
   "execution_count": 11,
   "metadata": {},
   "outputs": [
    {
     "name": "stdout",
     "output_type": "stream",
     "text": [
      "Original variables are  age gender$ quiettime nchildren stresslevel jobstatus$ nactivities pastvac sleephours\n"
     ]
    }
   ],
   "source": [
    "Ex_Name = input(\"give name: \")\n",
    "Ex_Num = input(\"give num: \")\n",
    "variables = acquire_variables(Ex_Num)\n",
    "print(f\"Original variables are {variables}\")\n",
    "\n",
    "# Designate y value. Removes it. Describe predictors.\n",
    "y_val = input(\"give response: \").lower().replace(\"$\",\"\")\n",
    "predictors = re.sub(rf' \\b{y_val}\\b',\"\",variables)\n",
    "print(f\"Predictors are {predictors}\")\n",
    "\n",
    "# Transform data as needed.\n",
    "tag = input(\"y to modify\").lower()\n",
    "temp = \"\"\n",
    "transformed = \"\"\n",
    "if tag == \"y\":\n",
    "    y_val,temp = modify_y(y_val)\n",
    "transformed += temp\n",
    "temp = \"\"\n",
    "tag = input(\"x to modify\").lower()\n",
    "if tag == \"x\":\n",
    "    predictors,temp = modify_x(predictors)\n",
    "transformed += temp\n",
    "\n",
    "# Distibution, link, prediction values.\n",
    "dist = input(\"give distribution: \").lower()\n",
    "link = input(\"give link function: \").lower()\n",
    "predictions = input(\"give values: \")"
   ]
  },
  {
   "cell_type": "markdown",
   "metadata": {},
   "source": [
    "Acquire variables from functions."
   ]
  },
  {
   "cell_type": "code",
   "execution_count": null,
   "metadata": {},
   "outputs": [],
   "source": [
    "#Take variables\n",
    "initial_data = call_data(Ex_Name,Ex_Num,variables,transformed)\n",
    "test_normality_v = test_normality(Ex_Num,y_val)\n",
    "fitted_model_v = fitted_model(Ex_Name,y_val,predictors,dist,link)\n",
    "null_model_v = null_model(Ex_Name,y_val,dist,link)\n",
    "predicted_v = predicted(predictors,predictions)\n",
    "predicted_model_v = predicted_model(y_val,predictors,dist,link)"
   ]
  },
  {
   "cell_type": "markdown",
   "metadata": {},
   "source": [
    "Print."
   ]
  },
  {
   "cell_type": "code",
   "execution_count": null,
   "metadata": {},
   "outputs": [],
   "source": [
    "print(f\"\"\"{initial_data}\n",
    "\n",
    "{test_normality_v}\n",
    "\n",
    "{fitted_model_v}\n",
    "\n",
    "/* Copy log likelihood from general model's ModelFit. */\n",
    "data _null_;\n",
    "set ModelFit;\n",
    "if Criterion=\"Log Likelihood\" then call symputx(\"FittedLogLike\", Value);\n",
    "run;\n",
    "%put LogLike = &FittedLogLike;\n",
    "\n",
    "/* Calculates degrees of freedom for deviance testing. Counts rows from ParameterEstimates with DF = 1 then subtracts 2, with 2 representing the number of parameters of the null model.*/\n",
    "proc sql noprint;\n",
    "select (count(DF)-2) into :Rows from ParameterEstimates where DF = 1;\n",
    "quit;\n",
    "run;\n",
    "%put Rows = &Rows;\n",
    "\n",
    "/* Outputs ParameterEstimates to a file for Python to write out a regression analysis. */\n",
    "proc export data=ParameterEstimates\n",
    "outfile = \"C:/Users/3sekk/Desktop/fall 23 stats/410/text.csv\"\n",
    "dbms = csv replace;\n",
    "delimeter = ',';\n",
    "run;\n",
    "\n",
    "{null_model_v}\n",
    "\n",
    "/* Copy log likelihood from null model's ModelFit. */\n",
    "data _null_;\n",
    "set ModelFit;\n",
    "if Criterion=\"Log Likelihood\" then call symputx(\"NullLogLike\", Value);\n",
    "run;\n",
    "%put LogLike = &NullLogLike;\n",
    "\n",
    "/* Deviance test via macros. */\n",
    "data deviance_test;\n",
    "deviance=-2*(&NullLogLike-(&FittedLogLike));\n",
    "pvalue=1-probchi(deviance,&Rows);\n",
    "run;\n",
    "proc print noobs;\n",
    "run;\n",
    "\n",
    "{predicted_v}\n",
    "\n",
    "/* Plop into dataset. */\n",
    "data {Ex_Name};\n",
    "set {Ex_Name} predict;\n",
    "run;\n",
    "\n",
    "{predicted_model_v}\n",
    "\n",
    "/* Acquire the final row. */\n",
    "proc sql noprint;\n",
    "select (count(*)) into :Rows from outdata;\n",
    "quit;\n",
    "run;\n",
    "%put Rows = &Rows;\n",
    "/* Output prediction. */\n",
    "proc print data=outdata (firstobs=&Rows) noobs;\n",
    "var p{y_val};\n",
    "run; \n",
    "\n",
    "/* Reset data. If this isn't present, rerunning this will cause the dataset to keep appending predictions. */\n",
    "proc delete data={Ex_Name};\n",
    "run;\n",
    "\"\"\",file=open('output.sas','w'))"
   ]
  }
 ],
 "metadata": {
  "kernelspec": {
   "display_name": "regressions",
   "language": "python",
   "name": "python3"
  },
  "language_info": {
   "codemirror_mode": {
    "name": "ipython",
    "version": 3
   },
   "file_extension": ".py",
   "mimetype": "text/x-python",
   "name": "python",
   "nbconvert_exporter": "python",
   "pygments_lexer": "ipython3",
   "version": "3.11.5"
  },
  "orig_nbformat": 4
 },
 "nbformat": 4,
 "nbformat_minor": 2
}

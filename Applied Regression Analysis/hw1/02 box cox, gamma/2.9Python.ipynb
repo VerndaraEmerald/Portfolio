{
 "cells": [
  {
   "cell_type": "markdown",
   "metadata": {},
   "source": [
    "Summon libraries."
   ]
  },
  {
   "cell_type": "code",
   "execution_count": 6,
   "metadata": {},
   "outputs": [],
   "source": [
    "# Summon libraries.\n",
    "import statsmodels.api as sm\n",
    "import statsmodels.formula.api as smf\n",
    "import pandas as pd\n",
    "import matplotlib\n",
    "import scipy\n",
    "import numpy as np\n",
    "import math"
   ]
  },
  {
   "cell_type": "markdown",
   "metadata": {},
   "source": [
    "Call data."
   ]
  },
  {
   "cell_type": "code",
   "execution_count": 7,
   "metadata": {},
   "outputs": [
    {
     "data": {
      "text/html": [
       "<div>\n",
       "<style scoped>\n",
       "    .dataframe tbody tr th:only-of-type {\n",
       "        vertical-align: middle;\n",
       "    }\n",
       "\n",
       "    .dataframe tbody tr th {\n",
       "        vertical-align: top;\n",
       "    }\n",
       "\n",
       "    .dataframe thead th {\n",
       "        text-align: right;\n",
       "    }\n",
       "</style>\n",
       "<table border=\"1\" class=\"dataframe\">\n",
       "  <thead>\n",
       "    <tr style=\"text-align: right;\">\n",
       "      <th></th>\n",
       "      <th>npolicies</th>\n",
       "      <th>yrswithfirm</th>\n",
       "      <th>percopenclaims</th>\n",
       "      <th>claimamount</th>\n",
       "    </tr>\n",
       "  </thead>\n",
       "  <tbody>\n",
       "    <tr>\n",
       "      <th>0</th>\n",
       "      <td>12.318</td>\n",
       "      <td>4</td>\n",
       "      <td>16</td>\n",
       "      <td>19.9</td>\n",
       "    </tr>\n",
       "    <tr>\n",
       "      <th>1</th>\n",
       "      <td>29.777</td>\n",
       "      <td>4</td>\n",
       "      <td>15</td>\n",
       "      <td>200.5</td>\n",
       "    </tr>\n",
       "    <tr>\n",
       "      <th>2</th>\n",
       "      <td>36.980</td>\n",
       "      <td>10</td>\n",
       "      <td>12</td>\n",
       "      <td>308.5</td>\n",
       "    </tr>\n",
       "    <tr>\n",
       "      <th>3</th>\n",
       "      <td>18.055</td>\n",
       "      <td>4</td>\n",
       "      <td>20</td>\n",
       "      <td>24.4</td>\n",
       "    </tr>\n",
       "    <tr>\n",
       "      <th>4</th>\n",
       "      <td>16.505</td>\n",
       "      <td>20</td>\n",
       "      <td>27</td>\n",
       "      <td>48.7</td>\n",
       "    </tr>\n",
       "  </tbody>\n",
       "</table>\n",
       "</div>"
      ],
      "text/plain": [
       "   npolicies  yrswithfirm  percopenclaims  claimamount\n",
       "0     12.318            4              16         19.9\n",
       "1     29.777            4              15        200.5\n",
       "2     36.980           10              12        308.5\n",
       "3     18.055            4              20         24.4\n",
       "4     16.505           20              27         48.7"
      ]
     },
     "execution_count": 7,
     "metadata": {},
     "output_type": "execute_result"
    }
   ],
   "source": [
    "# Call data. Uses PANDAS.\n",
    "claims = pd.read_csv('../../data//Exercise2.4Data.csv')\n",
    "claims['npolicies'] = claims['npolicies']/1000\n",
    "claims.head()"
   ]
  },
  {
   "cell_type": "markdown",
   "metadata": {},
   "source": [
    "Develop models."
   ]
  },
  {
   "cell_type": "code",
   "execution_count": 8,
   "metadata": {},
   "outputs": [
    {
     "name": "stdout",
     "output_type": "stream",
     "text": [
      "                 Generalized Linear Model Regression Results                  \n",
      "==============================================================================\n",
      "Dep. Variable:            claimamount   No. Observations:                   40\n",
      "Model:                            GLM   Df Residuals:                       36\n",
      "Model Family:                   Gamma   Df Model:                            3\n",
      "Link Function:                    Log   Scale:                         0.48157\n",
      "Method:                          IRLS   Log-Likelihood:                -214.93\n",
      "Date:                Sun, 29 Oct 2023   Deviance:                       34.797\n",
      "Time:                        01:40:29   Pearson chi2:                     17.3\n",
      "No. Iterations:                    13   Pseudo R-squ. (CS):             0.5421\n",
      "Covariance Type:            nonrobust                                         \n",
      "==================================================================================\n",
      "                     coef    std err          z      P>|z|      [0.025      0.975]\n",
      "----------------------------------------------------------------------------------\n",
      "Intercept          2.4656      0.529      4.658      0.000       1.428       3.503\n",
      "npolicies          0.0764      0.014      5.625      0.000       0.050       0.103\n",
      "yrswithfirm       -0.0186      0.018     -1.028      0.304      -0.054       0.017\n",
      "percopenclaims    -0.0037      0.014     -0.255      0.799      -0.032       0.025\n",
      "==================================================================================\n"
     ]
    }
   ],
   "source": [
    "# Develop model.\n",
    "formula = 'claimamount ~ npolicies + yrswithfirm + percopenclaims'\n",
    "fitted = smf.glm(formula=formula, data=claims, family=sm.families.Gamma(link=sm.families.links.Log())).fit()\n",
    "print(fitted.summary())\n",
    "fitloglike = (fitted.llf)"
   ]
  },
  {
   "cell_type": "code",
   "execution_count": 9,
   "metadata": {},
   "outputs": [
    {
     "name": "stdout",
     "output_type": "stream",
     "text": [
      "                 Generalized Linear Model Regression Results                  \n",
      "==============================================================================\n",
      "Dep. Variable:            claimamount   No. Observations:                   40\n",
      "Model:                            GLM   Df Residuals:                       39\n",
      "Model Family:                   Gamma   Df Model:                            0\n",
      "Link Function:                    Log   Scale:                         0.88285\n",
      "Method:                          IRLS   Log-Likelihood:                -220.44\n",
      "Date:                Sun, 29 Oct 2023   Deviance:                       49.842\n",
      "Time:                        01:40:29   Pearson chi2:                     34.4\n",
      "No. Iterations:                     7   Pseudo R-squ. (CS):              0.000\n",
      "Covariance Type:            nonrobust                                         \n",
      "==============================================================================\n",
      "                 coef    std err          z      P>|z|      [0.025      0.975]\n",
      "------------------------------------------------------------------------------\n",
      "Intercept      4.4997      0.149     30.288      0.000       4.209       4.791\n",
      "==============================================================================\n"
     ]
    }
   ],
   "source": [
    "# Null model.\n",
    "formula = 'claimamount ~ 1'\n",
    "null = smf.glm(formula=formula, data=claims, family=sm.families.Gamma(link=sm.families.links.Log())).fit()\n",
    "print(null.summary())\n",
    "nullloglike = (null.llf)"
   ]
  },
  {
   "cell_type": "markdown",
   "metadata": {},
   "source": [
    "Log likelihood."
   ]
  },
  {
   "cell_type": "code",
   "execution_count": 10,
   "metadata": {},
   "outputs": [
    {
     "name": "stdout",
     "output_type": "stream",
     "text": [
      "Deviance statistic is 11.01128390979693.\n",
      "p-value is 0.01166501542501941.\n"
     ]
    }
   ],
   "source": [
    "# Uses null and fitted log likelihoods to perform the deviance test.\n",
    "deviance= -2 * (nullloglike-(fitloglike))\n",
    "print(f\"Deviance statistic is {deviance}.\")\n",
    "# Chi2.cdf is from scipy.stats.\n",
    "from scipy.stats import chi2\n",
    "pvalue = 1 - chi2.cdf(deviance,3)\n",
    "print(f\"p-value is {pvalue}.\")"
   ]
  },
  {
   "cell_type": "markdown",
   "metadata": {},
   "source": [
    "Prediction."
   ]
  },
  {
   "cell_type": "code",
   "execution_count": 11,
   "metadata": {},
   "outputs": [
    {
     "name": "stdout",
     "output_type": "stream",
     "text": [
      "Predicted: 0    34.43268\n",
      "dtype: float64\n",
      "Predicted: 34.432679817251625\n"
     ]
    }
   ],
   "source": [
    "# Prediction.\n",
    "predict_val = pd.DataFrame(\n",
    "    {\"npolicies\": [15.5], \"yrswithfirm\": [3], \"percopenclaims\": [15]})\n",
    "predict_val = sm.add_constant(predict_val)\n",
    "\n",
    "# Simpler.\n",
    "print(f'Predicted: {fitted.predict(predict_val)}')\n",
    "\n",
    "# Isolated. This one grabs the item \"values\" from the array.\n",
    "print(f'Predicted: {fitted.predict(predict_val).values[0]}')"
   ]
  }
 ],
 "metadata": {
  "kernelspec": {
   "display_name": "regressions",
   "language": "python",
   "name": "python3"
  },
  "language_info": {
   "codemirror_mode": {
    "name": "ipython",
    "version": 3
   },
   "file_extension": ".py",
   "mimetype": "text/x-python",
   "name": "python",
   "nbconvert_exporter": "python",
   "pygments_lexer": "ipython3",
   "version": "3.11.5"
  },
  "orig_nbformat": 4
 },
 "nbformat": 4,
 "nbformat_minor": 2
}

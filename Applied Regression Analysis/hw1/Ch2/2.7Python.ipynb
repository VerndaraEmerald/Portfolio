{
 "cells": [
  {
   "cell_type": "markdown",
   "metadata": {},
   "source": [
    "Drawn from https://www.statsmodels.org/dev/examples/notebooks/generated/glm_formula.html."
   ]
  },
  {
   "cell_type": "code",
   "execution_count": 58,
   "metadata": {},
   "outputs": [],
   "source": [
    "# Summon libraries.\n",
    "import statsmodels.api as sm\n",
    "import statsmodels.formula.api as smf\n",
    "import pandas as pd\n",
    "import matplotlib\n",
    "import scipy\n",
    "import numpy as np"
   ]
  },
  {
   "cell_type": "markdown",
   "metadata": {},
   "source": [
    "Call data."
   ]
  },
  {
   "cell_type": "code",
   "execution_count": 1,
   "metadata": {},
   "outputs": [
    {
     "ename": "NameError",
     "evalue": "name 'pd' is not defined",
     "output_type": "error",
     "traceback": [
      "\u001b[1;31m---------------------------------------------------------------------------\u001b[0m",
      "\u001b[1;31mNameError\u001b[0m                                 Traceback (most recent call last)",
      "\u001b[1;32mc:\\Users\\3sekk\\Desktop\\fall 23 stats\\410\\hw1\\Ch2\\2.7Python.ipynb Cell 4\u001b[0m line \u001b[0;36m2\n\u001b[0;32m      <a href='vscode-notebook-cell:/c%3A/Users/3sekk/Desktop/fall%2023%20stats/410/hw1/Ch2/2.7Python.ipynb#W3sZmlsZQ%3D%3D?line=0'>1</a>\u001b[0m \u001b[39m# Call data. Uses PANDAS.\u001b[39;00m\n\u001b[1;32m----> <a href='vscode-notebook-cell:/c%3A/Users/3sekk/Desktop/fall%2023%20stats/410/hw1/Ch2/2.7Python.ipynb#W3sZmlsZQ%3D%3D?line=1'>2</a>\u001b[0m QI \u001b[39m=\u001b[39m pd\u001b[39m.\u001b[39mread_csv(\u001b[39m'\u001b[39m\u001b[39m./data/Exercise2.2Data.csv\u001b[39m\u001b[39m'\u001b[39m)\n\u001b[0;32m      <a href='vscode-notebook-cell:/c%3A/Users/3sekk/Desktop/fall%2023%20stats/410/hw1/Ch2/2.7Python.ipynb#W3sZmlsZQ%3D%3D?line=2'>3</a>\u001b[0m QI[\u001b[39m'\u001b[39m\u001b[39mscore\u001b[39m\u001b[39m'\u001b[39m] \u001b[39m=\u001b[39m QI[\u001b[39m'\u001b[39m\u001b[39mscore\u001b[39m\u001b[39m'\u001b[39m]\u001b[39m/\u001b[39m\u001b[39m100\u001b[39m\n\u001b[0;32m      <a href='vscode-notebook-cell:/c%3A/Users/3sekk/Desktop/fall%2023%20stats/410/hw1/Ch2/2.7Python.ipynb#W3sZmlsZQ%3D%3D?line=3'>4</a>\u001b[0m QI\u001b[39m.\u001b[39mhead()\n",
      "\u001b[1;31mNameError\u001b[0m: name 'pd' is not defined"
     ]
    }
   ],
   "source": [
    "# Call data. Uses PANDAS.\n",
    "QI = pd.read_csv('./data/Exercise2.2Data.csv')\n",
    "QI['score'] = QI['score']/100\n",
    "QI.head()"
   ]
  },
  {
   "cell_type": "markdown",
   "metadata": {},
   "source": [
    "Develop models."
   ]
  },
  {
   "cell_type": "code",
   "execution_count": 61,
   "metadata": {},
   "outputs": [
    {
     "name": "stdout",
     "output_type": "stream",
     "text": [
      "                 Generalized Linear Model Regression Results                  \n",
      "==============================================================================\n",
      "Dep. Variable:                  score   No. Observations:                   45\n",
      "Model:                            GLM   Df Residuals:                       40\n",
      "Model Family:                   Gamma   Df Model:                            4\n",
      "Link Function:                    log   Scale:                        0.022983\n",
      "Method:                          IRLS   Log-Likelihood:                 38.983\n",
      "Date:                Sun, 22 Oct 2023   Deviance:                      0.90565\n",
      "Time:                        02:23:31   Pearson chi2:                    0.919\n",
      "No. Iterations:                     8   Pseudo R-squ. (CS):             0.1426\n",
      "Covariance Type:            nonrobust                                         \n",
      "==========================================================================================================\n",
      "                                             coef    std err          z      P>|z|      [0.025      0.975]\n",
      "----------------------------------------------------------------------------------------------------------\n",
      "Intercept                                 -0.4624      0.069     -6.732      0.000      -0.597      -0.328\n",
      "C(desgn, Treatment(\"staff\"))[T.doctor]     0.1340      0.067      2.007      0.045       0.003       0.265\n",
      "C(desgn, Treatment(\"staff\"))[T.nurse]      0.1540      0.064      2.422      0.015       0.029       0.279\n",
      "priorQI[T.yes]                             0.0532      0.050      1.068      0.285      -0.044       0.151\n",
      "wrkyrs                                    -0.0002      0.003     -0.082      0.934      -0.006       0.006\n",
      "==========================================================================================================\n",
      "Sigma of fitted model is 0.022983367069266753.\n"
     ]
    },
    {
     "name": "stderr",
     "output_type": "stream",
     "text": [
      "c:\\Users\\3sekk\\miniconda3\\envs\\regressions\\Lib\\site-packages\\statsmodels\\genmod\\families\\links.py:13: FutureWarning: The log link alias is deprecated. Use Log instead. The log link alias will be removed after the 0.15.0 release.\n",
      "  warnings.warn(\n"
     ]
    }
   ],
   "source": [
    "# Develop model. Note that the default for Gamma in statsmodel is InversePower.\n",
    "formula = 'score ~ C(desgn,Treatment(\"staff\")) + wrkyrs + priorQI'\n",
    "fitted = smf.glm(formula=formula, data=QI, family=sm.families.Gamma(link=sm.families.links.log())).fit()\n",
    "print(fitted.summary())\n",
    "fitloglike = (fitted.llf)\n",
    "print(f'Sigma of fitted model is {fitted.scale}.')"
   ]
  },
  {
   "cell_type": "code",
   "execution_count": 62,
   "metadata": {},
   "outputs": [
    {
     "name": "stdout",
     "output_type": "stream",
     "text": [
      "                 Generalized Linear Model Regression Results                  \n",
      "==============================================================================\n",
      "Dep. Variable:                  score   No. Observations:                   45\n",
      "Model:                            GLM   Df Residuals:                       44\n",
      "Model Family:                   Gamma   Df Model:                            0\n",
      "Link Function:                    log   Scale:                        0.024867\n",
      "Method:                          IRLS   Log-Likelihood:                 35.497\n",
      "Date:                Sun, 22 Oct 2023   Deviance:                       1.0648\n",
      "Time:                        02:23:31   Pearson chi2:                     1.09\n",
      "No. Iterations:                     6   Pseudo R-squ. (CS):         -6.217e-15\n",
      "Covariance Type:            nonrobust                                         \n",
      "==============================================================================\n",
      "                 coef    std err          z      P>|z|      [0.025      0.975]\n",
      "------------------------------------------------------------------------------\n",
      "Intercept     -0.3267      0.024    -13.896      0.000      -0.373      -0.281\n",
      "==============================================================================\n"
     ]
    },
    {
     "name": "stderr",
     "output_type": "stream",
     "text": [
      "c:\\Users\\3sekk\\miniconda3\\envs\\regressions\\Lib\\site-packages\\statsmodels\\genmod\\families\\links.py:13: FutureWarning: The log link alias is deprecated. Use Log instead. The log link alias will be removed after the 0.15.0 release.\n",
      "  warnings.warn(\n"
     ]
    }
   ],
   "source": [
    "# Null model.\n",
    "formula = 'score ~ 1'\n",
    "null = smf.glm(formula=formula, data=QI, family=sm.families.Gamma(link=sm.families.links.log())).fit()\n",
    "print(null.summary())\n",
    "nullloglike = (null.llf)"
   ]
  },
  {
   "cell_type": "markdown",
   "metadata": {},
   "source": [
    "Log likelihood. Found the names through dir() https://stackoverflow.com/questions/2675028/list-attributes-of-an-object."
   ]
  },
  {
   "cell_type": "code",
   "execution_count": 63,
   "metadata": {},
   "outputs": [
    {
     "name": "stdout",
     "output_type": "stream",
     "text": [
      "Deviance statistic is 6.972874226777719.\n",
      "p-value is 0.13732866074456607.\n"
     ]
    }
   ],
   "source": [
    "# Uses null and fitted log likelihoods to perform the deviance test.\n",
    "deviance= -2 * (nullloglike-(fitloglike))\n",
    "print(f\"Deviance statistic is {deviance}.\")\n",
    "# Chi2.cdf is from scipy.stats.\n",
    "from scipy.stats import chi2\n",
    "pvalue = 1 - chi2.cdf(deviance,4)\n",
    "print(f\"p-value is {pvalue}.\")"
   ]
  },
  {
   "cell_type": "markdown",
   "metadata": {},
   "source": [
    "Prediction. https://www.statology.org/statsmodels-predict/"
   ]
  },
  {
   "cell_type": "code",
   "execution_count": 64,
   "metadata": {},
   "outputs": [
    {
     "name": "stdout",
     "output_type": "stream",
     "text": [
      "Predicted: 0    77.346833\n",
      "dtype: float64\n",
      "Predicted: 77.34683251141908\n"
     ]
    }
   ],
   "source": [
    "# Prediction.\n",
    "predict_val = pd.DataFrame(\n",
    "    {\"desgn\": \"nurse\", \"priorQI\":\"yes\", \"wrkyrs\":7}, index=[0])\n",
    "predict_val = sm.add_constant(predict_val)\n",
    "\n",
    "# Simpler.\n",
    "print(f'Predicted: {fitted.predict(predict_val) * 100}')\n",
    "\n",
    "# Isolated. This one grabs the item \"values\" from the array.\n",
    "print(f'Predicted: {fitted.predict(predict_val).values[0] * 100}')"
   ]
  }
 ],
 "metadata": {
  "kernelspec": {
   "display_name": "regressions",
   "language": "python",
   "name": "python3"
  },
  "language_info": {
   "codemirror_mode": {
    "name": "ipython",
    "version": 3
   },
   "file_extension": ".py",
   "mimetype": "text/x-python",
   "name": "python",
   "nbconvert_exporter": "python",
   "pygments_lexer": "ipython3",
   "version": "3.11.5"
  },
  "orig_nbformat": 4
 },
 "nbformat": 4,
 "nbformat_minor": 2
}

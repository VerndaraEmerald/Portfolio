{
 "cells": [
  {
   "cell_type": "markdown",
   "metadata": {},
   "source": [
    "Drawn from https://www.statsmodels.org/dev/examples/notebooks/generated/glm_formula.html."
   ]
  },
  {
   "cell_type": "code",
   "execution_count": 1,
   "metadata": {},
   "outputs": [],
   "source": [
    "# Summon libraries.\n",
    "import statsmodels.api as sm\n",
    "import statsmodels.formula.api as smf\n",
    "import pandas as pd\n",
    "import matplotlib\n",
    "import scipy\n",
    "import numpy as np"
   ]
  },
  {
   "cell_type": "markdown",
   "metadata": {},
   "source": [
    "Call data."
   ]
  },
  {
   "cell_type": "code",
   "execution_count": 2,
   "metadata": {},
   "outputs": [
    {
     "data": {
      "text/html": [
       "<div>\n",
       "<style scoped>\n",
       "    .dataframe tbody tr th:only-of-type {\n",
       "        vertical-align: middle;\n",
       "    }\n",
       "\n",
       "    .dataframe tbody tr th {\n",
       "        vertical-align: top;\n",
       "    }\n",
       "\n",
       "    .dataframe thead th {\n",
       "        text-align: right;\n",
       "    }\n",
       "</style>\n",
       "<table border=\"1\" class=\"dataframe\">\n",
       "  <thead>\n",
       "    <tr style=\"text-align: right;\">\n",
       "      <th></th>\n",
       "      <th>desgn</th>\n",
       "      <th>wrkyrs</th>\n",
       "      <th>priorQI</th>\n",
       "      <th>score</th>\n",
       "    </tr>\n",
       "  </thead>\n",
       "  <tbody>\n",
       "    <tr>\n",
       "      <th>0</th>\n",
       "      <td>nurse</td>\n",
       "      <td>16</td>\n",
       "      <td>yes</td>\n",
       "      <td>0.63</td>\n",
       "    </tr>\n",
       "    <tr>\n",
       "      <th>1</th>\n",
       "      <td>nurse</td>\n",
       "      <td>9</td>\n",
       "      <td>yes</td>\n",
       "      <td>0.93</td>\n",
       "    </tr>\n",
       "    <tr>\n",
       "      <th>2</th>\n",
       "      <td>nurse</td>\n",
       "      <td>8</td>\n",
       "      <td>yes</td>\n",
       "      <td>0.74</td>\n",
       "    </tr>\n",
       "    <tr>\n",
       "      <th>3</th>\n",
       "      <td>nurse</td>\n",
       "      <td>1</td>\n",
       "      <td>no</td>\n",
       "      <td>0.69</td>\n",
       "    </tr>\n",
       "    <tr>\n",
       "      <th>4</th>\n",
       "      <td>nurse</td>\n",
       "      <td>5</td>\n",
       "      <td>no</td>\n",
       "      <td>0.67</td>\n",
       "    </tr>\n",
       "  </tbody>\n",
       "</table>\n",
       "</div>"
      ],
      "text/plain": [
       "   desgn  wrkyrs priorQI  score\n",
       "0  nurse      16     yes   0.63\n",
       "1  nurse       9     yes   0.93\n",
       "2  nurse       8     yes   0.74\n",
       "3  nurse       1      no   0.69\n",
       "4  nurse       5      no   0.67"
      ]
     },
     "execution_count": 2,
     "metadata": {},
     "output_type": "execute_result"
    }
   ],
   "source": [
    "# Call data. Uses PANDAS.\n",
    "QI = pd.read_csv('./data/Exercise2.2Data.csv')\n",
    "QI['score'] = QI['score']/100\n",
    "QI.head()"
   ]
  },
  {
   "cell_type": "markdown",
   "metadata": {},
   "source": [
    "Normality.\n",
    "https://machinelearningmastery.com/a-gentle-introduction-to-normality-tests-in-python/"
   ]
  },
  {
   "cell_type": "code",
   "execution_count": 3,
   "metadata": {},
   "outputs": [
    {
     "data": {
      "image/png": "[encoded data removed]",
      "text/plain": [
       "<Figure size 640x480 with 1 Axes>"
      ]
     },
     "metadata": {},
     "output_type": "display_data"
    },
    {
     "name": "stdout",
     "output_type": "stream",
     "text": [
      "Anderson-Darling test statistic: 0.881\n",
      "Shapiro-Wilks test statistic: 0.944 \n",
      "Shapiro-Wilks p-value: 0.029\n"
     ]
    }
   ],
   "source": [
    "# Sets the y-value to the y-value[name] for normality tests.\n",
    "y_val = QI[\"score\"]\n",
    "\n",
    "from matplotlib import pyplot\n",
    "# Summon histogram. Uses matplotlib.\n",
    "pyplot.hist(y_val)\n",
    "pyplot.show()\n",
    "\n",
    "# Uses scipy.stats for an Anderson-Darling test.\n",
    "from scipy.stats import anderson\n",
    "# Assign result from an Anderson-Darling test using the y-value.\n",
    "result = anderson(y_val)\n",
    "# Dump out result's test statistic.\n",
    "print(f'Anderson-Darling test statistic: {result.statistic:.3f}')\n",
    "\n",
    "# Uses scipy.stats for a Shapiro-Wilks test.\n",
    "from scipy.stats import shapiro\n",
    "# Assign results from a Shapiro-Wilks test using the y-value.\n",
    "statistic, p_value = shapiro(y_val)\n",
    "print(f\"\"\"Shapiro-Wilks test statistic: {statistic:.3f} \n",
    "Shapiro-Wilks p-value: {p_value:.3f}\"\"\")"
   ]
  },
  {
   "cell_type": "markdown",
   "metadata": {},
   "source": [
    "Box-Cox. https://www.geeksforgeeks.org/box-cox-transformation-using-python/"
   ]
  },
  {
   "cell_type": "code",
   "execution_count": 9,
   "metadata": {},
   "outputs": [
    {
     "name": "stdout",
     "output_type": "stream",
     "text": [
      "Lambda is -0.9750167128694889\n",
      "Anderson-Darling test statistic: 0.449\n",
      "Shapiro-Wilks test statistic: 0.966 \n",
      "Shapiro-Wilks p-value: 0.207\n"
     ]
    },
    {
     "data": {
      "image/png": "[encoded data removed]",
      "text/plain": [
       "<Figure size 640x480 with 1 Axes>"
      ]
     },
     "metadata": {},
     "output_type": "display_data"
    }
   ],
   "source": [
    "from scipy.stats import boxcox\n",
    "QI['score_tr'], fitted_lambda = boxcox(QI['score'])\n",
    "print(f'Lambda is {fitted_lambda}')\n",
    "\n",
    "# for later usage\n",
    "QI['score_tr_man'] = 1 - (1/QI['score'])\n",
    "y_val = QI[\"score_tr_man\"]\n",
    "\n",
    "# Normality tests and histogram\n",
    "result = anderson(y_val)\n",
    "print(f'Anderson-Darling test statistic: {result.statistic:.3f}')\n",
    "statistic, p_value = shapiro(y_val)\n",
    "print(f\"\"\"Shapiro-Wilks test statistic: {statistic:.3f} \n",
    "Shapiro-Wilks p-value: {p_value:.3f}\"\"\")\n",
    "\n",
    "pyplot.hist(y_val)\n",
    "pyplot.show()\n"
   ]
  },
  {
   "cell_type": "markdown",
   "metadata": {},
   "source": [
    "Develop models."
   ]
  },
  {
   "cell_type": "code",
   "execution_count": 10,
   "metadata": {},
   "outputs": [
    {
     "name": "stdout",
     "output_type": "stream",
     "text": [
      "                 Generalized Linear Model Regression Results                  \n",
      "==============================================================================\n",
      "Dep. Variable:           score_tr_man   No. Observations:                   45\n",
      "Model:                            GLM   Df Residuals:                       40\n",
      "Model Family:                Gaussian   Df Model:                            4\n",
      "Link Function:               Identity   Scale:                        0.043171\n",
      "Method:                          IRLS   Log-Likelihood:                 9.5061\n",
      "Date:                Tue, 24 Oct 2023   Deviance:                       1.7268\n",
      "Time:                        00:26:22   Pearson chi2:                     1.73\n",
      "No. Iterations:                     3   Pseudo R-squ. (CS):             0.1497\n",
      "Covariance Type:            nonrobust                                         \n",
      "==========================================================================================================\n",
      "                                             coef    std err          z      P>|z|      [0.025      0.975]\n",
      "----------------------------------------------------------------------------------------------------------\n",
      "Intercept                                 -0.6093      0.094     -6.471      0.000      -0.794      -0.425\n",
      "C(desgn, Treatment(\"staff\"))[T.doctor]     0.1799      0.092      1.966      0.049       0.001       0.359\n",
      "C(desgn, Treatment(\"staff\"))[T.nurse]      0.2122      0.087      2.434      0.015       0.041       0.383\n",
      "priorQI[T.yes]                             0.0773      0.068      1.131      0.258      -0.057       0.211\n",
      "wrkyrs                                     0.0002      0.004      0.059      0.953      -0.008       0.008\n",
      "==========================================================================================================\n",
      "Sigma of fitted model is 0.20777619826347943.\n"
     ]
    }
   ],
   "source": [
    "# Develop model.\n",
    "QI['score_tr_man'] = 1 - (1/QI['score'])\n",
    "formula = 'score_tr_man ~ C(desgn,Treatment(\"staff\")) + wrkyrs + priorQI'\n",
    "fitted = smf.glm(formula=formula, data=QI, family=sm.families.Gaussian()).fit()\n",
    "print(fitted.summary())\n",
    "fitloglike = (fitted.llf)\n",
    "print(f'Sigma of fitted model is {np.sqrt(fitted.scale)}.')"
   ]
  },
  {
   "cell_type": "code",
   "execution_count": 6,
   "metadata": {},
   "outputs": [
    {
     "name": "stdout",
     "output_type": "stream",
     "text": [
      "                 Generalized Linear Model Regression Results                  \n",
      "==============================================================================\n",
      "Dep. Variable:           score_tr_man   No. Observations:                   45\n",
      "Model:                            GLM   Df Residuals:                       44\n",
      "Model Family:                Gaussian   Df Model:                            0\n",
      "Link Function:               Identity   Scale:                        0.046114\n",
      "Method:                          IRLS   Log-Likelihood:                 5.8777\n",
      "Date:                Tue, 24 Oct 2023   Deviance:                       2.0290\n",
      "Time:                        00:25:34   Pearson chi2:                     2.03\n",
      "No. Iterations:                     3   Pseudo R-squ. (CS):          0.0002506\n",
      "Covariance Type:            nonrobust                                         \n",
      "==============================================================================\n",
      "                 coef    std err          z      P>|z|      [0.025      0.975]\n",
      "------------------------------------------------------------------------------\n",
      "Intercept     -0.4191      0.032    -13.091      0.000      -0.482      -0.356\n",
      "==============================================================================\n"
     ]
    }
   ],
   "source": [
    "# Null model.\n",
    "formula = 'score_tr_man ~ 1'\n",
    "null = smf.glm(formula=formula, data=QI, family=sm.families.Gaussian()).fit()\n",
    "print(null.summary())\n",
    "nullloglike = (null.llf)"
   ]
  },
  {
   "cell_type": "markdown",
   "metadata": {},
   "source": [
    "Log likelihood. Found the names through dir() https://stackoverflow.com/questions/2675028/list-attributes-of-an-object."
   ]
  },
  {
   "cell_type": "code",
   "execution_count": 11,
   "metadata": {},
   "outputs": [
    {
     "name": "stdout",
     "output_type": "stream",
     "text": [
      "Deviance statistic is 7.256887290898154.\n",
      "p-value is 0.12291982326181128.\n"
     ]
    }
   ],
   "source": [
    "# Uses null and fitted log likelihoods to perform the deviance test.\n",
    "deviance= -2 * (nullloglike-(fitloglike))\n",
    "print(f\"Deviance statistic is {deviance}.\")\n",
    "# Chi2.cdf is from scipy.stats.\n",
    "from scipy.stats import chi2\n",
    "pvalue = 1 - chi2.cdf(deviance,4)\n",
    "print(f\"p-value is {pvalue}.\")"
   ]
  },
  {
   "cell_type": "markdown",
   "metadata": {},
   "source": [
    "Prediction. https://www.statology.org/statsmodels-predict/"
   ]
  },
  {
   "cell_type": "code",
   "execution_count": 12,
   "metadata": {},
   "outputs": [
    {
     "name": "stdout",
     "output_type": "stream",
     "text": [
      "Predicted: 0    75.865283\n",
      "dtype: float64\n",
      "Predicted: 75.86528307041931\n"
     ]
    }
   ],
   "source": [
    "# Prediction.\n",
    "predict_val = pd.DataFrame(\n",
    "    {\"desgn\": \"nurse\", \"priorQI\":\"yes\", \"wrkyrs\":7}, index=[0])\n",
    "predict_val = sm.add_constant(predict_val)\n",
    "100/(1-fitted.predict(predict_val))\n",
    "\n",
    "# Simpler.\n",
    "print(f'Predicted: {100/(1-fitted.predict(predict_val))}')\n",
    "\n",
    "# Isolated. This one grabs the item \"values\" from the array.\n",
    "print(f'Predicted: {100/(1-fitted.predict(predict_val)).values[0]}')"
   ]
  }
 ],
 "metadata": {
  "kernelspec": {
   "display_name": "regressions",
   "language": "python",
   "name": "python3"
  },
  "language_info": {
   "codemirror_mode": {
    "name": "ipython",
    "version": 3
   },
   "file_extension": ".py",
   "mimetype": "text/x-python",
   "name": "python",
   "nbconvert_exporter": "python",
   "pygments_lexer": "ipython3",
   "version": "3.11.5"
  },
  "orig_nbformat": 4
 },
 "nbformat": 4,
 "nbformat_minor": 2
}

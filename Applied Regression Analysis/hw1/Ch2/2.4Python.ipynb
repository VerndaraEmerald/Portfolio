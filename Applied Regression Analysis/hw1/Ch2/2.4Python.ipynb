{
 "cells": [
  {
   "cell_type": "markdown",
   "metadata": {},
   "source": [
    "Drawn from https://www.statsmodels.org/dev/examples/notebooks/generated/glm_formula.html."
   ]
  },
  {
   "cell_type": "code",
   "execution_count": 1,
   "metadata": {},
   "outputs": [],
   "source": [
    "# Summon libraries.\n",
    "import statsmodels.api as sm\n",
    "import statsmodels.formula.api as smf\n",
    "import pandas as pd\n",
    "import matplotlib\n",
    "import scipy\n",
    "import numpy as np\n",
    "import math"
   ]
  },
  {
   "cell_type": "markdown",
   "metadata": {},
   "source": [
    "Call data."
   ]
  },
  {
   "cell_type": "code",
   "execution_count": 3,
   "metadata": {},
   "outputs": [
    {
     "data": {
      "text/html": [
       "<div>\n",
       "<style scoped>\n",
       "    .dataframe tbody tr th:only-of-type {\n",
       "        vertical-align: middle;\n",
       "    }\n",
       "\n",
       "    .dataframe tbody tr th {\n",
       "        vertical-align: top;\n",
       "    }\n",
       "\n",
       "    .dataframe thead th {\n",
       "        text-align: right;\n",
       "    }\n",
       "</style>\n",
       "<table border=\"1\" class=\"dataframe\">\n",
       "  <thead>\n",
       "    <tr style=\"text-align: right;\">\n",
       "      <th></th>\n",
       "      <th>npolicies</th>\n",
       "      <th>yrswithfirm</th>\n",
       "      <th>percopenclaims</th>\n",
       "      <th>claimamount</th>\n",
       "    </tr>\n",
       "  </thead>\n",
       "  <tbody>\n",
       "    <tr>\n",
       "      <th>0</th>\n",
       "      <td>12.318</td>\n",
       "      <td>4</td>\n",
       "      <td>16</td>\n",
       "      <td>19.9</td>\n",
       "    </tr>\n",
       "    <tr>\n",
       "      <th>1</th>\n",
       "      <td>29.777</td>\n",
       "      <td>4</td>\n",
       "      <td>15</td>\n",
       "      <td>200.5</td>\n",
       "    </tr>\n",
       "    <tr>\n",
       "      <th>2</th>\n",
       "      <td>36.980</td>\n",
       "      <td>10</td>\n",
       "      <td>12</td>\n",
       "      <td>308.5</td>\n",
       "    </tr>\n",
       "    <tr>\n",
       "      <th>3</th>\n",
       "      <td>18.055</td>\n",
       "      <td>4</td>\n",
       "      <td>20</td>\n",
       "      <td>24.4</td>\n",
       "    </tr>\n",
       "    <tr>\n",
       "      <th>4</th>\n",
       "      <td>16.505</td>\n",
       "      <td>20</td>\n",
       "      <td>27</td>\n",
       "      <td>48.7</td>\n",
       "    </tr>\n",
       "  </tbody>\n",
       "</table>\n",
       "</div>"
      ],
      "text/plain": [
       "   npolicies  yrswithfirm  percopenclaims  claimamount\n",
       "0     12.318            4              16         19.9\n",
       "1     29.777            4              15        200.5\n",
       "2     36.980           10              12        308.5\n",
       "3     18.055            4              20         24.4\n",
       "4     16.505           20              27         48.7"
      ]
     },
     "execution_count": 3,
     "metadata": {},
     "output_type": "execute_result"
    }
   ],
   "source": [
    "# Call data. Uses PANDAS.\n",
    "claims = pd.read_csv('./data/Exercise2.4Data.csv')\n",
    "claims['npolicies'] = claims['npolicies']/1000\n",
    "claims.head()"
   ]
  },
  {
   "cell_type": "markdown",
   "metadata": {},
   "source": [
    "Normality.\n",
    "https://machinelearningmastery.com/a-gentle-introduction-to-normality-tests-in-python/"
   ]
  },
  {
   "cell_type": "code",
   "execution_count": null,
   "metadata": {},
   "outputs": [
    {
     "data": {
      "image/png": "[encoded data removed]",
      "text/plain": [
       "<Figure size 640x480 with 1 Axes>"
      ]
     },
     "metadata": {},
     "output_type": "display_data"
    },
    {
     "name": "stdout",
     "output_type": "stream",
     "text": [
      "Anderson-Darling test statistic: 1.707\n",
      "Shapiro-Wilks test statistic: 0.856 \n",
      "Shapiro-Wilks p-value: 0.000\n"
     ]
    }
   ],
   "source": [
    "# Sets the y-value to the y-value[name] for normality tests.\n",
    "y_val = claims[\"claimamount\"]\n",
    "\n",
    "from matplotlib import pyplot\n",
    "# Summon histogram. Uses matplotlib.\n",
    "pyplot.hist(y_val)\n",
    "pyplot.show()\n",
    "\n",
    "# Uses scipy.stats for an Anderson-Darling test.\n",
    "from scipy.stats import anderson\n",
    "# Assign result from an Anderson-Darling test using the y-value.\n",
    "result = anderson(y_val)\n",
    "# Dump out result's test statistic.\n",
    "print(f'Anderson-Darling test statistic: {result.statistic:.3f}')\n",
    "\n",
    "# Uses scipy.stats for a Shapiro-Wilks test.\n",
    "from scipy.stats import shapiro\n",
    "# Assign results from a Shapiro-Wilks test using the y-value.\n",
    "statistic, p_value = shapiro(y_val)\n",
    "print(f\"\"\"Shapiro-Wilks test statistic: {statistic:.3f} \n",
    "Shapiro-Wilks p-value: {p_value:.3f}\"\"\")"
   ]
  },
  {
   "cell_type": "markdown",
   "metadata": {},
   "source": [
    "Box-Cox. https://www.geeksforgeeks.org/box-cox-transformation-using-python/"
   ]
  },
  {
   "cell_type": "code",
   "execution_count": null,
   "metadata": {},
   "outputs": [
    {
     "name": "stdout",
     "output_type": "stream",
     "text": [
      "Lambda is 0.3359858319959223\n",
      "Anderson-Darling test statistic: 0.121\n",
      "Shapiro-Wilks test statistic: 0.987 \n",
      "Shapiro-Wilks p-value: 0.930\n"
     ]
    },
    {
     "data": {
      "image/png": "[encoded data removed]",
      "text/plain": [
       "<Figure size 640x480 with 1 Axes>"
      ]
     },
     "metadata": {},
     "output_type": "display_data"
    }
   ],
   "source": [
    "from scipy.stats import boxcox\n",
    "claims['claimamount_tr'], fitted_lambda = boxcox(claims['claimamount'])\n",
    "print(f'Lambda is {fitted_lambda}')\n",
    "y_val = claims[\"claimamount_tr\"]\n",
    "\n",
    "# Normality tests and histogram\n",
    "result = anderson(y_val)\n",
    "print(f'Anderson-Darling test statistic: {result.statistic:.3f}')\n",
    "statistic, p_value = shapiro(y_val)\n",
    "print(f\"\"\"Shapiro-Wilks test statistic: {statistic:.3f} \n",
    "Shapiro-Wilks p-value: {p_value:.3f}\"\"\")\n",
    "\n",
    "pyplot.hist(y_val)\n",
    "pyplot.show()\n"
   ]
  },
  {
   "cell_type": "markdown",
   "metadata": {},
   "source": [
    "Develop models."
   ]
  },
  {
   "cell_type": "code",
   "execution_count": null,
   "metadata": {},
   "outputs": [
    {
     "name": "stdout",
     "output_type": "stream",
     "text": [
      "                 Generalized Linear Model Regression Results                  \n",
      "==============================================================================\n",
      "Dep. Variable:         claimamount_tr   No. Observations:                   40\n",
      "Model:                            GLM   Df Residuals:                       36\n",
      "Model Family:                Gaussian   Df Model:                            3\n",
      "Link Function:               Identity   Scale:                          52.112\n",
      "Method:                          IRLS   Log-Likelihood:                -133.72\n",
      "Date:                Mon, 23 Oct 2023   Deviance:                       1876.0\n",
      "Time:                        10:39:24   Pearson chi2:                 1.88e+03\n",
      "No. Iterations:                     3   Pseudo R-squ. (CS):             0.4376\n",
      "Covariance Type:            nonrobust                                         \n",
      "==================================================================================\n",
      "                     coef    std err          z      P>|z|      [0.025      0.975]\n",
      "----------------------------------------------------------------------------------\n",
      "Intercept          0.6928      5.506      0.126      0.900     -10.100      11.485\n",
      "npolicies          0.6624      0.141      4.688      0.000       0.385       0.939\n",
      "yrswithfirm       -0.2338      0.188     -1.242      0.214      -0.603       0.135\n",
      "percopenclaims    -0.0825      0.150     -0.552      0.581      -0.376       0.211\n",
      "==================================================================================\n"
     ]
    }
   ],
   "source": [
    "# Develop model.\n",
    "claims['claimamount_tr'] = 2 * (np.sqrt(claims['claimamount']) - 1)\n",
    "formula = 'claimamount_tr ~ npolicies + yrswithfirm + percopenclaims'\n",
    "fitted = smf.glm(formula=formula, data=claims, family=sm.families.Gaussian()).fit()\n",
    "print(fitted.summary())\n",
    "fitloglike = (fitted.llf)"
   ]
  },
  {
   "cell_type": "code",
   "execution_count": null,
   "metadata": {},
   "outputs": [
    {
     "name": "stdout",
     "output_type": "stream",
     "text": [
      "                 Generalized Linear Model Regression Results                  \n",
      "==============================================================================\n",
      "Dep. Variable:         claimamount_tr   No. Observations:                   40\n",
      "Model:                            GLM   Df Residuals:                       39\n",
      "Model Family:                Gaussian   Df Model:                            0\n",
      "Link Function:               Identity   Scale:                          78.576\n",
      "Method:                          IRLS   Log-Likelihood:                -143.53\n",
      "Date:                Mon, 23 Oct 2023   Deviance:                       3064.4\n",
      "Time:                        10:39:25   Pearson chi2:                 3.06e+03\n",
      "No. Iterations:                     3   Pseudo R-squ. (CS):          0.0003178\n",
      "Covariance Type:            nonrobust                                         \n",
      "==============================================================================\n",
      "                 coef    std err          z      P>|z|      [0.025      0.975]\n",
      "------------------------------------------------------------------------------\n",
      "Intercept     14.8333      1.402     10.583      0.000      12.086      17.580\n",
      "==============================================================================\n"
     ]
    }
   ],
   "source": [
    "# Null model.\n",
    "formula = 'claimamount_tr ~ 1'\n",
    "null = smf.glm(formula=formula, data=claims, family=sm.families.Gaussian()).fit()\n",
    "print(null.summary())\n",
    "nullloglike = (null.llf)"
   ]
  },
  {
   "cell_type": "markdown",
   "metadata": {},
   "source": [
    "Log likelihood. Found the names through dir() https://stackoverflow.com/questions/2675028/list-attributes-of-an-object."
   ]
  },
  {
   "cell_type": "code",
   "execution_count": null,
   "metadata": {},
   "outputs": [
    {
     "name": "stdout",
     "output_type": "stream",
     "text": [
      "Deviance statistic is 19.628721322465196.\n",
      "p-value is 0.0002026295132128153.\n"
     ]
    }
   ],
   "source": [
    "# Uses null and fitted log likelihoods to perform the deviance test.\n",
    "deviance= -2 * (nullloglike-(fitloglike))\n",
    "print(f\"Deviance statistic is {deviance}.\")\n",
    "# Chi2.cdf is from scipy.stats.\n",
    "from scipy.stats import chi2\n",
    "pvalue = 1 - chi2.cdf(deviance,3)\n",
    "print(f\"p-value is {pvalue}.\")"
   ]
  },
  {
   "cell_type": "markdown",
   "metadata": {},
   "source": [
    "Prediction. https://www.statology.org/statsmodels-predict/"
   ]
  },
  {
   "cell_type": "code",
   "execution_count": null,
   "metadata": {},
   "outputs": [
    {
     "name": "stdout",
     "output_type": "stream",
     "text": [
      "Predicted: 0    30.359999\n",
      "dtype: float64\n",
      "Predicted: 30.359999314532093\n"
     ]
    }
   ],
   "source": [
    "# Prediction.\n",
    "predict_val = pd.DataFrame(\n",
    "    {\"npolicies\": [15.5], \"yrswithfirm\": [3], \"percopenclaims\": [15]})\n",
    "predict_val = sm.add_constant(predict_val)\n",
    "\n",
    "# Simpler.\n",
    "print(f'Predicted: {(0.5 * fitted.predict(predict_val) + 1) ** 2}')\n",
    "\n",
    "# Isolated. This one grabs the item \"values\" from the array.\n",
    "print(f'Predicted: {(0.5 * fitted.predict(predict_val).values[0] + 1) ** 2}')"
   ]
  }
 ],
 "metadata": {
  "kernelspec": {
   "display_name": "regressions",
   "language": "python",
   "name": "python3"
  },
  "language_info": {
   "codemirror_mode": {
    "name": "ipython",
    "version": 3
   },
   "file_extension": ".py",
   "mimetype": "text/x-python",
   "name": "python",
   "nbconvert_exporter": "python",
   "pygments_lexer": "ipython3",
   "version": "3.11.5"
  },
  "orig_nbformat": 4
 },
 "nbformat": 4,
 "nbformat_minor": 2
}

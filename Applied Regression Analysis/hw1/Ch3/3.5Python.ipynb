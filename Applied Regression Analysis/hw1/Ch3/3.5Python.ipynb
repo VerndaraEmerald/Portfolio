{
 "cells": [
  {
   "cell_type": "markdown",
   "metadata": {},
   "source": [
    "Drawn from https://www.statsmodels.org/dev/examples/notebooks/generated/glm_formula.html."
   ]
  },
  {
   "cell_type": "code",
   "execution_count": 96,
   "metadata": {},
   "outputs": [],
   "source": [
    "# Summon libraries.\n",
    "import statsmodels.api as sm\n",
    "import statsmodels.formula.api as smf\n",
    "import pandas as pd"
   ]
  },
  {
   "cell_type": "markdown",
   "metadata": {},
   "source": [
    "Call data."
   ]
  },
  {
   "cell_type": "code",
   "execution_count": 97,
   "metadata": {},
   "outputs": [],
   "source": [
    "# Call data. Uses PANDAS.\n",
    "cardiac = pd.read_csv('../../data/Exercise3.5Data.csv')\n",
    "\n",
    "# Since each model has identical formula, develop it once.\n",
    "predict_val = pd.DataFrame(\n",
    "    {\"A\" : 2, \"W\" : 4}, index=[0])"
   ]
  },
  {
   "cell_type": "markdown",
   "metadata": {},
   "source": [
    "Logit models."
   ]
  },
  {
   "cell_type": "code",
   "execution_count": 98,
   "metadata": {},
   "outputs": [
    {
     "name": "stdout",
     "output_type": "stream",
     "text": [
      "Optimization terminated successfully.\n",
      "         Current function value: 0.605315\n",
      "         Iterations 6\n",
      "                           Logit Regression Results                           \n",
      "==============================================================================\n",
      "Dep. Variable:                  group   No. Observations:                   48\n",
      "Model:                          Logit   Df Residuals:                       45\n",
      "Method:                           MLE   Df Model:                            2\n",
      "Date:                Fri, 27 Oct 2023   Pseudo R-squ.:                  0.1267\n",
      "Time:                        15:40:09   Log-Likelihood:                -29.055\n",
      "converged:                       True   LL-Null:                       -33.271\n",
      "Covariance Type:            nonrobust   LLR p-value:                   0.01476\n",
      "==============================================================================\n",
      "                 coef    std err          z      P>|z|      [0.025      0.975]\n",
      "------------------------------------------------------------------------------\n",
      "Intercept     -1.1160      0.890     -1.255      0.210      -2.860       0.628\n",
      "A              0.4378      0.199      2.201      0.028       0.048       0.828\n",
      "W              0.0277      0.126      0.220      0.826      -0.219       0.274\n",
      "==============================================================================\n"
     ]
    }
   ],
   "source": [
    "formula = 'group ~ A + W'\n",
    "fitted_logit = smf.logit(formula = formula, data=cardiac).fit()\n",
    "print(fitted_logit.summary())\n",
    "fitloglike_logit = (fitted_logit.llf)"
   ]
  },
  {
   "cell_type": "code",
   "execution_count": 99,
   "metadata": {},
   "outputs": [],
   "source": [
    "# The three models don't vary in how many parameters they produce, \n",
    "# Thus, we can set model_param to fitted.df_model once.\n",
    "# df_model is number of regressors. Add 1 to get number of parameters.\n",
    "# Keep df_model for degrees of freedom.\n",
    "model_param = fitted_logit.df_model + 1\n",
    "deg_free = fitted_logit.df_model"
   ]
  },
  {
   "cell_type": "markdown",
   "metadata": {},
   "source": [
    "Logit AIC, BIC, AICC."
   ]
  },
  {
   "cell_type": "code",
   "execution_count": 100,
   "metadata": {},
   "outputs": [],
   "source": [
    "# AIC, BIC are built into the regression. \n",
    "# AICC needs to be developed.\n",
    "aic_logit = fitted_logit.aic\n",
    "aicc_logit = sm.tools.eval_measures.aicc(\n",
    "# Value of log likelihood function.\n",
    "    fitloglike_logit,\n",
    "# Number of observations.\n",
    "    fitted_logit.nobs,\n",
    "    model_param)\n",
    "bic_logit = fitted_logit.bic"
   ]
  },
  {
   "cell_type": "code",
   "execution_count": 101,
   "metadata": {},
   "outputs": [
    {
     "name": "stdout",
     "output_type": "stream",
     "text": [
      "Optimization terminated successfully.\n",
      "         Current function value: 0.693147\n",
      "         Iterations 1\n"
     ]
    }
   ],
   "source": [
    "# Null model.\n",
    "null = smf.logit('group ~ 1', data=cardiac).fit()\n",
    "nullloglike_logit = (null.llf)"
   ]
  },
  {
   "cell_type": "markdown",
   "metadata": {},
   "source": [
    "Logit log likelihood. Found the names through dir() https://stackoverflow.com/questions/2675028/list-attributes-of-an-object."
   ]
  },
  {
   "cell_type": "code",
   "execution_count": 102,
   "metadata": {},
   "outputs": [
    {
     "name": "stdout",
     "output_type": "stream",
     "text": [
      "Deviance statistic is 8.431899815840197.\n",
      "p-value is 0.014758296084250944.\n"
     ]
    }
   ],
   "source": [
    "# Uses null and fitted log likelihoods to perform the deviance test.\n",
    "deviance= -2 * (nullloglike_logit-(fitloglike_logit))\n",
    "print(f\"Deviance statistic is {deviance}.\")\n",
    "# Chi2.cdf is from scipy.stats.\n",
    "from scipy.stats import chi2\n",
    "pvalue = 1 - chi2.cdf(deviance,deg_free)\n",
    "print(f\"p-value is {pvalue}.\")"
   ]
  },
  {
   "cell_type": "markdown",
   "metadata": {},
   "source": [
    "Logit prediction."
   ]
  },
  {
   "cell_type": "code",
   "execution_count": 103,
   "metadata": {},
   "outputs": [
    {
     "name": "stdout",
     "output_type": "stream",
     "text": [
      "Predicted: 0    0.46758\n",
      "dtype: float64\n",
      "Predicted: 0.46757964801353874\n"
     ]
    }
   ],
   "source": [
    "# Prediction.\n",
    "predict_val = sm.add_constant(predict_val)\n",
    "# Simpler.\n",
    "print(f'Predicted: {fitted_logit.predict(predict_val)}')\n",
    "\n",
    "# Isolated. This one grabs the item \"values\" from the array.\n",
    "print(f'Predicted: {fitted_logit.predict(predict_val).values[0]}')"
   ]
  },
  {
   "cell_type": "markdown",
   "metadata": {},
   "source": [
    "Probit models."
   ]
  },
  {
   "cell_type": "code",
   "execution_count": 104,
   "metadata": {},
   "outputs": [
    {
     "name": "stdout",
     "output_type": "stream",
     "text": [
      "Optimization terminated successfully.\n",
      "         Current function value: 0.607311\n",
      "         Iterations 5\n",
      "                          Probit Regression Results                           \n",
      "==============================================================================\n",
      "Dep. Variable:                  group   No. Observations:                   48\n",
      "Model:                         Probit   Df Residuals:                       45\n",
      "Method:                           MLE   Df Model:                            2\n",
      "Date:                Fri, 27 Oct 2023   Pseudo R-squ.:                  0.1238\n",
      "Time:                        15:40:09   Log-Likelihood:                -29.151\n",
      "converged:                       True   LL-Null:                       -33.271\n",
      "Covariance Type:            nonrobust   LLR p-value:                   0.01624\n",
      "==============================================================================\n",
      "                 coef    std err          z      P>|z|      [0.025      0.975]\n",
      "------------------------------------------------------------------------------\n",
      "Intercept     -0.6300      0.519     -1.214      0.225      -1.647       0.387\n",
      "A              0.2490      0.106      2.346      0.019       0.041       0.457\n",
      "W              0.0105      0.076      0.138      0.890      -0.138       0.159\n",
      "==============================================================================\n"
     ]
    }
   ],
   "source": [
    "formula = 'group ~ A + W'\n",
    "fitted_probit = smf.probit(formula=formula, data=cardiac).fit()\n",
    "print(fitted_probit.summary())\n",
    "fitloglike_probit = (fitted_probit.llf)"
   ]
  },
  {
   "cell_type": "code",
   "execution_count": 105,
   "metadata": {},
   "outputs": [
    {
     "name": "stdout",
     "output_type": "stream",
     "text": [
      "Optimization terminated successfully.\n",
      "         Current function value: 0.693147\n",
      "         Iterations 1\n"
     ]
    }
   ],
   "source": [
    "# Null model.\n",
    "null_probit = smf.probit('group ~ 1', data=cardiac).fit()\n",
    "nullloglike_probit = (null_probit.llf)"
   ]
  },
  {
   "cell_type": "markdown",
   "metadata": {},
   "source": [
    "Probit log likelihood."
   ]
  },
  {
   "cell_type": "code",
   "execution_count": 106,
   "metadata": {},
   "outputs": [
    {
     "name": "stdout",
     "output_type": "stream",
     "text": [
      "Deviance statistic is 8.24031743326293.\n",
      "p-value is 0.016241936371934607.\n"
     ]
    }
   ],
   "source": [
    "# Uses null and fitted log likelihoods to perform the deviance test.\n",
    "deviance= -2 * (nullloglike_probit-(fitloglike_probit))\n",
    "print(f\"Deviance statistic is {deviance}.\")\n",
    "# Chi2.cdf is from scipy.stats.\n",
    "from scipy.stats import chi2\n",
    "pvalue = 1 - chi2.cdf(deviance,deg_free)\n",
    "print(f\"p-value is {pvalue}.\")"
   ]
  },
  {
   "cell_type": "markdown",
   "metadata": {},
   "source": [
    "Probit AIC, BIC, AICC."
   ]
  },
  {
   "cell_type": "code",
   "execution_count": 107,
   "metadata": {},
   "outputs": [],
   "source": [
    "# AIC, BIC are built into the regression. \n",
    "# AICC needs to be developed.\n",
    "aic_probit = fitted_probit.aic\n",
    "aicc_probit = sm.tools.eval_measures.aicc(\n",
    "# Value of log likelihood function.\n",
    "    fitloglike_probit,\n",
    "# Number of observations.\n",
    "    fitted_probit.nobs,\n",
    "    model_param)\n",
    "bic_probit = fitted_probit.bic"
   ]
  },
  {
   "cell_type": "markdown",
   "metadata": {},
   "source": [
    "Probit prediction."
   ]
  },
  {
   "cell_type": "code",
   "execution_count": 108,
   "metadata": {},
   "outputs": [
    {
     "name": "stdout",
     "output_type": "stream",
     "text": [
      "Predicted: 0    0.464077\n",
      "dtype: float64\n",
      "Predicted: 0.4640766442933432\n"
     ]
    }
   ],
   "source": [
    "# Prediction.\n",
    "predict_val = sm.add_constant(predict_val)\n",
    "# Simpler.\n",
    "print(f'Predicted: {fitted_probit.predict(predict_val)}')\n",
    "\n",
    "# Isolated. This one grabs the item \"values\" from the array.\n",
    "print(f'Predicted: {fitted_probit.predict(predict_val).values[0]}')"
   ]
  },
  {
   "cell_type": "markdown",
   "metadata": {},
   "source": [
    "Cloglog models. Found format through https://github.com/statsmodels/statsmodels/issues/827. "
   ]
  },
  {
   "cell_type": "code",
   "execution_count": 109,
   "metadata": {},
   "outputs": [
    {
     "name": "stdout",
     "output_type": "stream",
     "text": [
      "                 Generalized Linear Model Regression Results                  \n",
      "==============================================================================\n",
      "Dep. Variable:                  group   No. Observations:                   48\n",
      "Model:                            GLM   Df Residuals:                       45\n",
      "Model Family:                Binomial   Df Model:                            2\n",
      "Link Function:                CLogLog   Scale:                          1.0000\n",
      "Method:                          IRLS   Log-Likelihood:                -29.524\n",
      "Date:                Fri, 27 Oct 2023   Deviance:                       59.047\n",
      "Time:                        15:40:09   Pearson chi2:                     49.8\n",
      "No. Iterations:                     9   Pseudo R-squ. (CS):             0.1446\n",
      "Covariance Type:            nonrobust                                         \n",
      "==============================================================================\n",
      "                 coef    std err          z      P>|z|      [0.025      0.975]\n",
      "------------------------------------------------------------------------------\n",
      "Intercept     -1.0392      0.629     -1.653      0.098      -2.272       0.193\n",
      "A              0.2382      0.109      2.182      0.029       0.024       0.452\n",
      "W              0.0167      0.092      0.182      0.856      -0.164       0.197\n",
      "==============================================================================\n"
     ]
    }
   ],
   "source": [
    "# Cloglog. \n",
    "# Note that this uses a binomial family with cloglog link, akin to R.\n",
    "# Furthermore, this similar format can be used for Probit and Logit, just changing the link function.\n",
    "# It just happens there's no smf.cloglog.\n",
    "formula = 'group ~ A + W'\n",
    "fitted_cloglog = smf.glm(formula=formula, data=cardiac,family=sm.families.Binomial(sm.families.links.CLogLog ())).fit()\n",
    "print(fitted_cloglog.summary())\n",
    "fitloglike_cloglog = (fitted_cloglog.llf)\n",
    "\n",
    "# Null model.\n",
    "null_cloglog = smf.glm(formula = 'group ~ 1', data=cardiac, family=sm.families.Binomial(sm.families.links.CLogLog ())).fit()\n",
    "nullloglike_cloglog = (null_cloglog.llf)"
   ]
  },
  {
   "cell_type": "markdown",
   "metadata": {},
   "source": [
    "Cloglog log likelihood."
   ]
  },
  {
   "cell_type": "code",
   "execution_count": 110,
   "metadata": {},
   "outputs": [
    {
     "name": "stdout",
     "output_type": "stream",
     "text": [
      "Deviance statistic is 7.49502521126535.\n",
      "p-value is 0.023576316578627576.\n"
     ]
    }
   ],
   "source": [
    "# Uses null and fitted log likelihoods to perform the deviance test.\n",
    "deviance= -2 * (nullloglike_cloglog-(fitloglike_cloglog))\n",
    "print(f\"Deviance statistic is {deviance}.\")\n",
    "# Chi2.cdf is from scipy.stats.\n",
    "from scipy.stats import chi2\n",
    "pvalue = 1 - chi2.cdf(deviance,deg_free)\n",
    "print(f\"p-value is {pvalue}.\")"
   ]
  },
  {
   "cell_type": "markdown",
   "metadata": {},
   "source": [
    "Cloglog AIC, BIC, AICC."
   ]
  },
  {
   "cell_type": "code",
   "execution_count": 111,
   "metadata": {},
   "outputs": [],
   "source": [
    "# AIC, BIC are built into the regression. \n",
    "# AICC needs to be developed.\n",
    "aic_cloglog = fitted_cloglog.aic\n",
    "aicc_cloglog = sm.tools.eval_measures.aicc(\n",
    "# Value of log likelihood function.\n",
    "    fitloglike_cloglog,\n",
    "# Number of observations.\n",
    "    fitted_cloglog.nobs,\n",
    "    model_param)\n",
    "# statsmodel alludes to using a deviance-based bic.\n",
    "# _llf makes it use a log-likelihood function-based bic.\n",
    "bic_cloglog = fitted_cloglog.bic_llf"
   ]
  },
  {
   "cell_type": "markdown",
   "metadata": {},
   "source": [
    "Cloglog prediction. https://www.statology.org/statsmodels-predict/"
   ]
  },
  {
   "cell_type": "code",
   "execution_count": 112,
   "metadata": {},
   "outputs": [
    {
     "name": "stdout",
     "output_type": "stream",
     "text": [
      "Predicted: 0    0.45612\n",
      "dtype: float64\n",
      "Predicted: 0.4561195320960084\n"
     ]
    }
   ],
   "source": [
    "# Prediction.\n",
    "predict_val = sm.add_constant(predict_val)\n",
    "# Simpler.\n",
    "print(f'Predicted: {fitted_cloglog.predict(predict_val)}')\n",
    "\n",
    "# Isolated. This one grabs the item \"values\" from the array.\n",
    "print(f'Predicted: {fitted_cloglog.predict(predict_val).values[0]}')"
   ]
  },
  {
   "cell_type": "markdown",
   "metadata": {},
   "source": [
    "Model comparisons. From https://www.geeksforgeeks.org/different-ways-to-create-pandas-dataframe/"
   ]
  },
  {
   "cell_type": "code",
   "execution_count": 113,
   "metadata": {},
   "outputs": [
    {
     "data": {
      "text/html": [
       "<div>\n",
       "<style scoped>\n",
       "    .dataframe tbody tr th:only-of-type {\n",
       "        vertical-align: middle;\n",
       "    }\n",
       "\n",
       "    .dataframe tbody tr th {\n",
       "        vertical-align: top;\n",
       "    }\n",
       "\n",
       "    .dataframe thead th {\n",
       "        text-align: right;\n",
       "    }\n",
       "</style>\n",
       "<table border=\"1\" class=\"dataframe\">\n",
       "  <thead>\n",
       "    <tr style=\"text-align: right;\">\n",
       "      <th></th>\n",
       "      <th>AIC</th>\n",
       "      <th>AICC</th>\n",
       "      <th>BIC</th>\n",
       "    </tr>\n",
       "  </thead>\n",
       "  <tbody>\n",
       "    <tr>\n",
       "      <th>logit</th>\n",
       "      <td>64.110230</td>\n",
       "      <td>64.655684</td>\n",
       "      <td>69.723833</td>\n",
       "    </tr>\n",
       "    <tr>\n",
       "      <th>probit</th>\n",
       "      <td>64.301812</td>\n",
       "      <td>64.847266</td>\n",
       "      <td>69.915415</td>\n",
       "    </tr>\n",
       "    <tr>\n",
       "      <th>cloglog</th>\n",
       "      <td>65.047104</td>\n",
       "      <td>65.592559</td>\n",
       "      <td>70.660707</td>\n",
       "    </tr>\n",
       "  </tbody>\n",
       "</table>\n",
       "</div>"
      ],
      "text/plain": [
       "               AIC       AICC        BIC\n",
       "logit    64.110230  64.655684  69.723833\n",
       "probit   64.301812  64.847266  69.915415\n",
       "cloglog  65.047104  65.592559  70.660707"
      ]
     },
     "execution_count": 113,
     "metadata": {},
     "output_type": "execute_result"
    }
   ],
   "source": [
    "data = [[aic_logit,aicc_logit,bic_logit],\n",
    "        [aic_probit,aicc_probit,bic_probit],\n",
    "        [aic_cloglog,aicc_cloglog,bic_cloglog]]\n",
    "\n",
    "comparison = pd.DataFrame(data,\n",
    "                          columns = ['AIC','AICC','BIC'],\n",
    "                          index = ['logit','probit','cloglog'])\n",
    "\n",
    "comparison"
   ]
  },
  {
   "cell_type": "markdown",
   "metadata": {},
   "source": [
    "Automated comparison. \n",
    "https://www.geeksforgeeks.org/get-minimum-values-in-rows-or-columns-with-their-index-position-in-pandas-dataframe/"
   ]
  },
  {
   "cell_type": "code",
   "execution_count": 114,
   "metadata": {},
   "outputs": [
    {
     "name": "stdout",
     "output_type": "stream",
     "text": [
      "The model with the best fit is the logit model.\n"
     ]
    }
   ],
   "source": [
    "# Initialize.\n",
    "logit = 0\n",
    "probit = 0\n",
    "cloglog = 0 \n",
    "\n",
    "# Runs through all 3 columns.\n",
    "# If column has lowest value, that model +1 point.\n",
    "# Model with highest points is declared at end.\n",
    "def points(cur_min,logit,probit,cloglog):\n",
    "        if cur_min == \"logit\":\n",
    "                logit += 1\n",
    "        elif cur_min == \"probit\":\n",
    "                probit += 1\n",
    "        else:\n",
    "                cloglog += 1 \n",
    "        return(logit,probit,cloglog)\n",
    "\n",
    "# Runs through the models.\n",
    "cur_min = comparison['AIC'].idxmin()\n",
    "logit,probit,cloglog = points(cur_min,logit,probit,cloglog)\n",
    "cur_min = comparison['AICC'].idxmin()\n",
    "logit,probit,cloglog = points(cur_min,logit,probit,cloglog)\n",
    "cur_min = comparison['BIC'].idxmin()\n",
    "logit,probit,cloglog = points(cur_min,logit,probit,cloglog)\n",
    "\n",
    "final = {logit:\"logit\",probit:\"probit\",cloglog:\"cloglog\"}\n",
    "\n",
    "print(f\"The model with the best fit is the {final.get(max(final))} model.\")"
   ]
  }
 ],
 "metadata": {
  "kernelspec": {
   "display_name": "regressions",
   "language": "python",
   "name": "python3"
  },
  "language_info": {
   "codemirror_mode": {
    "name": "ipython",
    "version": 3
   },
   "file_extension": ".py",
   "mimetype": "text/x-python",
   "name": "python",
   "nbconvert_exporter": "python",
   "pygments_lexer": "ipython3",
   "version": "3.11.5"
  },
  "orig_nbformat": 4
 },
 "nbformat": 4,
 "nbformat_minor": 2
}

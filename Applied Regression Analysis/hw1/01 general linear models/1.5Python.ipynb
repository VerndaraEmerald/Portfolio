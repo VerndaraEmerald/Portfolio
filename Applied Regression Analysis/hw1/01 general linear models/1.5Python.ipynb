{
 "cells": [
  {
   "cell_type": "markdown",
   "metadata": {},
   "source": [
    "Drawn from https://www.statsmodels.org/dev/examples/notebooks/generated/glm_formula.html."
   ]
  },
  {
   "cell_type": "code",
   "execution_count": 1,
   "metadata": {},
   "outputs": [],
   "source": [
    "# Summon libraries.\n",
    "import statsmodels.api as sm\n",
    "import statsmodels.formula.api as smf\n",
    "import pandas as pd\n",
    "import matplotlib\n",
    "import scipy\n",
    "import numpy as np"
   ]
  },
  {
   "cell_type": "markdown",
   "metadata": {},
   "source": [
    "Call data."
   ]
  },
  {
   "cell_type": "code",
   "execution_count": 2,
   "metadata": {},
   "outputs": [],
   "source": [
    "# Call data. Uses PANDAS.\n",
    "triathalon = pd.read_csv('../../data/Exercise1.5Data.csv')\n",
    "triathalon['combined'] = triathalon['t1'] + triathalon['t2']"
   ]
  },
  {
   "cell_type": "markdown",
   "metadata": {},
   "source": [
    "Normality.\n",
    "https://machinelearningmastery.com/a-gentle-introduction-to-normality-tests-in-python/"
   ]
  },
  {
   "cell_type": "code",
   "execution_count": 3,
   "metadata": {},
   "outputs": [
    {
     "data": {
      "image/png": "[encoded data removed]",
      "text/plain": [
       "<Figure size 640x480 with 1 Axes>"
      ]
     },
     "metadata": {},
     "output_type": "display_data"
    },
    {
     "name": "stdout",
     "output_type": "stream",
     "text": [
      "Anderson-Darling test statistic: 0.352\n",
      "Shapiro-Wilks test statistic: 0.979 \n",
      "Shapiro-Wilks p-value: 0.622\n"
     ]
    }
   ],
   "source": [
    "# Sets the y-value to the y-value[name] for normality tests.\n",
    "y_val = triathalon[\"combined\"]\n",
    "\n",
    "from matplotlib import pyplot\n",
    "# Summon histogram. Uses matplotlib.\n",
    "pyplot.hist(y_val)\n",
    "pyplot.show()\n",
    "\n",
    "# Uses scipy.stats for an Anderson-Darling test.\n",
    "from scipy.stats import anderson\n",
    "# Assign result from an Anderson-Darling test using the y-value.\n",
    "result = anderson(y_val)\n",
    "# Dump out result's test statistic.\n",
    "print(f'Anderson-Darling test statistic: {result.statistic:.3f}')\n",
    "\n",
    "# Uses scipy.stats for a Shapiro-Wilks test.\n",
    "from scipy.stats import shapiro\n",
    "# Assign results from a Shapiro-Wilks test using the y-value.\n",
    "statistic, p_value = shapiro(y_val)\n",
    "print(f\"\"\"Shapiro-Wilks test statistic: {statistic:.3f} \n",
    "Shapiro-Wilks p-value: {p_value:.3f}\"\"\")"
   ]
  },
  {
   "cell_type": "markdown",
   "metadata": {},
   "source": [
    "Develop models."
   ]
  },
  {
   "cell_type": "code",
   "execution_count": 5,
   "metadata": {},
   "outputs": [
    {
     "name": "stdout",
     "output_type": "stream",
     "text": [
      "                 Generalized Linear Model Regression Results                  \n",
      "==============================================================================\n",
      "Dep. Variable:               combined   No. Observations:                   42\n",
      "Model:                            GLM   Df Residuals:                       36\n",
      "Model Family:                Gaussian   Df Model:                            5\n",
      "Link Function:               Identity   Scale:                          1.0027\n",
      "Method:                          IRLS   Log-Likelihood:                -56.415\n",
      "Date:                Tue, 24 Oct 2023   Deviance:                       36.097\n",
      "Time:                        00:19:26   Pearson chi2:                     36.1\n",
      "No. Iterations:                     3   Pseudo R-squ. (CS):             0.6971\n",
      "Covariance Type:            nonrobust                                         \n",
      "==================================================================================================\n",
      "                                     coef    std err          z      P>|z|      [0.025      0.975]\n",
      "--------------------------------------------------------------------------------------------------\n",
      "Intercept                          0.5293      1.107      0.478      0.633      -1.641       2.700\n",
      "C(gender, Treatment(\"M\"))[T.F]     0.0961      0.352      0.273      0.785      -0.593       0.785\n",
      "age                                0.0067      0.014      0.481      0.630      -0.020       0.034\n",
      "run                                0.1964      0.054      3.640      0.000       0.091       0.302\n",
      "bike                              -0.0565      0.035     -1.595      0.111      -0.126       0.013\n",
      "swim                               0.2475      0.111      2.238      0.025       0.031       0.464\n",
      "==================================================================================================\n",
      "Sigma of fitted model is 1.0013511625125118.\n"
     ]
    }
   ],
   "source": [
    "# Develop model.\n",
    "formula = 'combined ~ age + C(gender,Treatment(\"M\")) + run + bike + swim'\n",
    "fitted = smf.glm(formula=formula, data=triathalon, family=sm.families.Gaussian()).fit()\n",
    "print(fitted.summary())\n",
    "fitloglike = (fitted.llf)\n",
    "print(f'Sigma of fitted model is {np.sqrt(fitted.scale)}.')"
   ]
  },
  {
   "cell_type": "code",
   "execution_count": 6,
   "metadata": {},
   "outputs": [],
   "source": [
    "# Null model.\n",
    "formula = 'combined ~ 1'\n",
    "null = smf.glm(formula=formula, data=triathalon, family=sm.families.Gaussian()).fit()\n",
    "nullloglike = (null.llf)"
   ]
  },
  {
   "cell_type": "markdown",
   "metadata": {},
   "source": [
    "Log likelihood. Found the names through dir() https://stackoverflow.com/questions/2675028/list-attributes-of-an-object."
   ]
  },
  {
   "cell_type": "code",
   "execution_count": 7,
   "metadata": {},
   "outputs": [
    {
     "name": "stdout",
     "output_type": "stream",
     "text": [
      "Deviance statistic is 36.42269287891298.\n",
      "p-value is 7.119447354053676e-05.\n"
     ]
    }
   ],
   "source": [
    "# Uses null and fitted log likelihoods to perform the deviance test.\n",
    "deviance= -2 * (nullloglike-(fitloglike))\n",
    "print(f\"Deviance statistic is {deviance}.\")\n",
    "# Chi2.cdf is from scipy.stats.\n",
    "from scipy.stats import chi2\n",
    "pvalue = 1 - chi2.cdf(deviance,10)\n",
    "print(f\"p-value is {pvalue}.\")"
   ]
  },
  {
   "cell_type": "markdown",
   "metadata": {},
   "source": [
    "Prediction. https://www.statology.org/statsmodels-predict/"
   ]
  },
  {
   "cell_type": "code",
   "execution_count": 8,
   "metadata": {},
   "outputs": [
    {
     "data": {
      "text/plain": [
       "0    5.094653\n",
       "dtype: float64"
      ]
     },
     "execution_count": 8,
     "metadata": {},
     "output_type": "execute_result"
    }
   ],
   "source": [
    "# Prediction.\n",
    "predict_val = pd.DataFrame(\n",
    "    {\"age\" : 25, \"gender\" : 'M', \"run\" : 27.53, \"bike\" : 56.28, \"swim\" : 8.77}, index=[0])\n",
    "predict_val = sm.add_constant(predict_val)\n",
    "fitted.predict(predict_val)"
   ]
  }
 ],
 "metadata": {
  "kernelspec": {
   "display_name": "regressions",
   "language": "python",
   "name": "python3"
  },
  "language_info": {
   "codemirror_mode": {
    "name": "ipython",
    "version": 3
   },
   "file_extension": ".py",
   "mimetype": "text/x-python",
   "name": "python",
   "nbconvert_exporter": "python",
   "pygments_lexer": "ipython3",
   "version": "3.11.5"
  },
  "orig_nbformat": 4
 },
 "nbformat": 4,
 "nbformat_minor": 2
}

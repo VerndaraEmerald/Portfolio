{
 "cells": [
  {
   "cell_type": "markdown",
   "metadata": {},
   "source": [
    "Summon libraries."
   ]
  },
  {
   "cell_type": "code",
   "execution_count": null,
   "metadata": {},
   "outputs": [],
   "source": [
    "# Summon the library for glm and the library for reading csvs.\n",
    "import statsmodels.api as sm\n",
    "import statsmodels.formula.api as smf\n",
    "import pandas as pd\n",
    "import matplotlib\n",
    "import scipy\n",
    "import numpy as np"
   ]
  },
  {
   "cell_type": "markdown",
   "metadata": {},
   "source": [
    "Call data."
   ]
  },
  {
   "cell_type": "code",
   "execution_count": null,
   "metadata": {},
   "outputs": [],
   "source": [
    "# Call data. Uses PANDAS.\n",
    "sleep = pd.read_csv('../../data/Exercise1.4Data.csv')\n",
    "sleep.head()"
   ]
  },
  {
   "cell_type": "markdown",
   "metadata": {},
   "source": [
    "Normality."
   ]
  },
  {
   "cell_type": "code",
   "execution_count": null,
   "metadata": {},
   "outputs": [],
   "source": [
    "# Sets the y-value to the y-value[name] for normality tests.\n",
    "y_val = sleep[\"Sleephours\"]\n",
    "\n",
    "from matplotlib import pyplot\n",
    "# Summon histogram. Uses matplotlib.\n",
    "pyplot.hist(y_val)\n",
    "pyplot.show()\n",
    "\n",
    "# Uses scipy.stats for an Anderson-Darling test.\n",
    "from scipy.stats import anderson\n",
    "# Assign result from an Anderson-Darling test using the y-value.\n",
    "result = anderson(y_val)\n",
    "# Dump out result's test statistic.\n",
    "print(f'Anderson-Darling test statistic: {result.statistic:.3f}')\n",
    "\n",
    "# Uses scipy.stats for a Shapiro-Wilks test.\n",
    "from scipy.stats import shapiro\n",
    "# Assign results from a Shapiro-Wilks test using the y-value.\n",
    "statistic, p_value = shapiro(y_val)\n",
    "print(f\"\"\"Shapiro-Wilks test statistic: {statistic:.3f} \n",
    "Shapiro-Wilks p-value: {p_value:.3f}\"\"\")"
   ]
  },
  {
   "cell_type": "markdown",
   "metadata": {},
   "source": [
    "Develop models."
   ]
  },
  {
   "cell_type": "code",
   "execution_count": null,
   "metadata": {},
   "outputs": [],
   "source": [
    "# Develop model.\n",
    "formula = 'Sleephours ~ Age + Gender + QuietTime + NChildren + StressLevel + JobStatus + NActivities + PastVac'\n",
    "fitted = smf.glm(formula=formula, data=sleep, family=sm.families.Gaussian()).fit()\n",
    "print(fitted.summary())\n",
    "fitloglike = (fitted.llf)\n",
    "print(f'Sigma of fitted model is {np.sqrt(fitted.scale)}.')"
   ]
  },
  {
   "cell_type": "code",
   "execution_count": null,
   "metadata": {},
   "outputs": [],
   "source": [
    "# Null model.\n",
    "formula = 'Sleephours ~ 1'\n",
    "null = smf.glm(formula=formula, data=sleep, family=sm.families.Gaussian()).fit()\n",
    "nullloglike = (null.llf)"
   ]
  },
  {
   "cell_type": "markdown",
   "metadata": {},
   "source": [
    "Log likelihood."
   ]
  },
  {
   "cell_type": "code",
   "execution_count": null,
   "metadata": {},
   "outputs": [],
   "source": [
    "# Uses null and fitted log likelihoods to perform the deviance test.\n",
    "deviance= -2 * (nullloglike-(fitloglike))\n",
    "print(f\"Deviance statistic is {deviance}.\")\n",
    "# Chi2.cdf is from scipy.stats.\n",
    "from scipy.stats import chi2\n",
    "pvalue = 1 - chi2.cdf(deviance,10)\n",
    "print(f\"p-value is {pvalue}.\")"
   ]
  },
  {
   "cell_type": "markdown",
   "metadata": {},
   "source": [
    "Prediction."
   ]
  },
  {
   "cell_type": "code",
   "execution_count": null,
   "metadata": {},
   "outputs": [],
   "source": [
    "# Prediction.\n",
    "predict_val = pd.DataFrame(\n",
    "    {\"Age\" : 30, \"Gender\" : 'F', \"QuietTime\" : 10, \"NChildren\" : 3, \"StressLevel\" : 7, \"JobStatus\" : \"full\", \"NActivities\" : 7, \"PastVac\" : 12}, index=[0])\n",
    "predict_val = sm.add_constant(predict_val)\n",
    "# Simpler.\n",
    "print(f'Predicted: {fitted.predict(predict_val)}')\n",
    "\n",
    "# Isolated. This one grabs the item \"values\" from the array.\n",
    "print(f'Predicted: {fitted.predict(predict_val).values[0]}')"
   ]
  }
 ],
 "metadata": {
  "kernelspec": {
   "display_name": "regressions",
   "language": "python",
   "name": "python3"
  },
  "language_info": {
   "codemirror_mode": {
    "name": "ipython",
    "version": 3
   },
   "file_extension": ".py",
   "mimetype": "text/x-python",
   "name": "python",
   "nbconvert_exporter": "python",
   "pygments_lexer": "ipython3",
   "version": "3.11.5"
  },
  "orig_nbformat": 4
 },
 "nbformat": 4,
 "nbformat_minor": 2
}

{
 "cells": [
  {
   "cell_type": "markdown",
   "metadata": {},
   "source": [
    "Summon libraries."
   ]
  },
  {
   "cell_type": "code",
   "execution_count": 2,
   "metadata": {},
   "outputs": [],
   "source": [
    "# Summon the library for glm and the library for reading csvs.\n",
    "import statsmodels.api as sm\n",
    "import statsmodels.formula.api as smf\n",
    "import pandas as pd\n",
    "import matplotlib\n",
    "import scipy\n",
    "import numpy as np"
   ]
  },
  {
   "cell_type": "markdown",
   "metadata": {},
   "source": [
    "Call data."
   ]
  },
  {
   "cell_type": "code",
   "execution_count": 3,
   "metadata": {},
   "outputs": [
    {
     "data": {
      "text/html": [
       "<div>\n",
       "<style scoped>\n",
       "    .dataframe tbody tr th:only-of-type {\n",
       "        vertical-align: middle;\n",
       "    }\n",
       "\n",
       "    .dataframe tbody tr th {\n",
       "        vertical-align: top;\n",
       "    }\n",
       "\n",
       "    .dataframe thead th {\n",
       "        text-align: right;\n",
       "    }\n",
       "</style>\n",
       "<table border=\"1\" class=\"dataframe\">\n",
       "  <thead>\n",
       "    <tr style=\"text-align: right;\">\n",
       "      <th></th>\n",
       "      <th>Age</th>\n",
       "      <th>Gender</th>\n",
       "      <th>QuietTime</th>\n",
       "      <th>NChildren</th>\n",
       "      <th>StressLevel</th>\n",
       "      <th>JobStatus</th>\n",
       "      <th>NActivities</th>\n",
       "      <th>PastVac</th>\n",
       "      <th>Sleephours</th>\n",
       "    </tr>\n",
       "  </thead>\n",
       "  <tbody>\n",
       "    <tr>\n",
       "      <th>0</th>\n",
       "      <td>62</td>\n",
       "      <td>F</td>\n",
       "      <td>60</td>\n",
       "      <td>1</td>\n",
       "      <td>5</td>\n",
       "      <td>unempl</td>\n",
       "      <td>1</td>\n",
       "      <td>15</td>\n",
       "      <td>7.7</td>\n",
       "    </tr>\n",
       "    <tr>\n",
       "      <th>1</th>\n",
       "      <td>28</td>\n",
       "      <td>F</td>\n",
       "      <td>15</td>\n",
       "      <td>1</td>\n",
       "      <td>6</td>\n",
       "      <td>unempl</td>\n",
       "      <td>5</td>\n",
       "      <td>11</td>\n",
       "      <td>5.3</td>\n",
       "    </tr>\n",
       "    <tr>\n",
       "      <th>2</th>\n",
       "      <td>50</td>\n",
       "      <td>M</td>\n",
       "      <td>15</td>\n",
       "      <td>0</td>\n",
       "      <td>5</td>\n",
       "      <td>unempl</td>\n",
       "      <td>1</td>\n",
       "      <td>19</td>\n",
       "      <td>6.4</td>\n",
       "    </tr>\n",
       "    <tr>\n",
       "      <th>3</th>\n",
       "      <td>36</td>\n",
       "      <td>M</td>\n",
       "      <td>60</td>\n",
       "      <td>1</td>\n",
       "      <td>6</td>\n",
       "      <td>full</td>\n",
       "      <td>1</td>\n",
       "      <td>21</td>\n",
       "      <td>7.7</td>\n",
       "    </tr>\n",
       "    <tr>\n",
       "      <th>4</th>\n",
       "      <td>56</td>\n",
       "      <td>F</td>\n",
       "      <td>50</td>\n",
       "      <td>0</td>\n",
       "      <td>3</td>\n",
       "      <td>part</td>\n",
       "      <td>4</td>\n",
       "      <td>5</td>\n",
       "      <td>7.6</td>\n",
       "    </tr>\n",
       "  </tbody>\n",
       "</table>\n",
       "</div>"
      ],
      "text/plain": [
       "   Age Gender  QuietTime  NChildren  StressLevel JobStatus  NActivities  \\\n",
       "0   62      F         60          1            5    unempl            1   \n",
       "1   28      F         15          1            6    unempl            5   \n",
       "2   50      M         15          0            5    unempl            1   \n",
       "3   36      M         60          1            6      full            1   \n",
       "4   56      F         50          0            3      part            4   \n",
       "\n",
       "   PastVac  Sleephours  \n",
       "0       15         7.7  \n",
       "1       11         5.3  \n",
       "2       19         6.4  \n",
       "3       21         7.7  \n",
       "4        5         7.6  "
      ]
     },
     "execution_count": 3,
     "metadata": {},
     "output_type": "execute_result"
    }
   ],
   "source": [
    "# Call data. Uses PANDAS.\n",
    "sleep = pd.read_csv('../../data/Exercise1.4Data.csv')\n",
    "sleep.head()"
   ]
  },
  {
   "cell_type": "markdown",
   "metadata": {},
   "source": [
    "Normality."
   ]
  },
  {
   "cell_type": "code",
   "execution_count": 4,
   "metadata": {},
   "outputs": [
    {
     "data": {
      "image/png": "[encoded data removed]",
      "text/plain": [
       "<Figure size 640x480 with 1 Axes>"
      ]
     },
     "metadata": {},
     "output_type": "display_data"
    },
    {
     "name": "stdout",
     "output_type": "stream",
     "text": [
      "Anderson-Darling test statistic: 0.328\n",
      "Shapiro-Wilks test statistic: 0.983 \n",
      "Shapiro-Wilks p-value: 0.676\n"
     ]
    }
   ],
   "source": [
    "# Sets the y-value to the y-value[name] for normality tests.\n",
    "y_val = sleep[\"Sleephours\"]\n",
    "\n",
    "from matplotlib import pyplot\n",
    "# Summon histogram. Uses matplotlib.\n",
    "pyplot.hist(y_val)\n",
    "pyplot.show()\n",
    "\n",
    "# Uses scipy.stats for an Anderson-Darling test.\n",
    "from scipy.stats import anderson\n",
    "# Assign result from an Anderson-Darling test using the y-value.\n",
    "result = anderson(y_val)\n",
    "# Dump out result's test statistic.\n",
    "print(f'Anderson-Darling test statistic: {result.statistic:.3f}')\n",
    "\n",
    "# Uses scipy.stats for a Shapiro-Wilks test.\n",
    "from scipy.stats import shapiro\n",
    "# Assign results from a Shapiro-Wilks test using the y-value.\n",
    "statistic, p_value = shapiro(y_val)\n",
    "print(f\"\"\"Shapiro-Wilks test statistic: {statistic:.3f} \n",
    "Shapiro-Wilks p-value: {p_value:.3f}\"\"\")"
   ]
  },
  {
   "cell_type": "markdown",
   "metadata": {},
   "source": [
    "Develop models."
   ]
  },
  {
   "cell_type": "code",
   "execution_count": 5,
   "metadata": {},
   "outputs": [
    {
     "name": "stdout",
     "output_type": "stream",
     "text": [
      "                 Generalized Linear Model Regression Results                  \n",
      "==============================================================================\n",
      "Dep. Variable:             Sleephours   No. Observations:                   50\n",
      "Model:                            GLM   Df Residuals:                       39\n",
      "Model Family:                Gaussian   Df Model:                           10\n",
      "Link Function:               Identity   Scale:                         0.66723\n",
      "Method:                          IRLS   Log-Likelihood:                -54.620\n",
      "Date:                Sun, 29 Oct 2023   Deviance:                       26.022\n",
      "Time:                        01:31:55   Pearson chi2:                     26.0\n",
      "No. Iterations:                     3   Pseudo R-squ. (CS):             0.5839\n",
      "Covariance Type:            nonrobust                                         \n",
      "========================================================================================\n",
      "                           coef    std err          z      P>|z|      [0.025      0.975]\n",
      "----------------------------------------------------------------------------------------\n",
      "Intercept                6.8260      0.798      8.550      0.000       5.261       8.391\n",
      "Gender[T.M]              0.3568      0.241      1.478      0.139      -0.116       0.830\n",
      "JobStatus[T.part]        1.0484      0.361      2.904      0.004       0.341       1.756\n",
      "JobStatus[T.student]     0.6286      0.493      1.274      0.203      -0.338       1.596\n",
      "JobStatus[T.unempl]      0.3818      0.324      1.180      0.238      -0.252       1.016\n",
      "Age                     -0.0037      0.010     -0.348      0.728      -0.024       0.017\n",
      "QuietTime                0.0074      0.003      2.292      0.022       0.001       0.014\n",
      "NChildren                0.1204      0.123      0.979      0.328      -0.121       0.362\n",
      "StressLevel             -0.1398      0.061     -2.302      0.021      -0.259      -0.021\n",
      "NActivities              0.0204      0.039      0.522      0.602      -0.056       0.097\n",
      "PastVac                  0.0050      0.019      0.263      0.793      -0.033       0.043\n",
      "========================================================================================\n",
      "Sigma of fitted model is 0.8168443197871293.\n"
     ]
    }
   ],
   "source": [
    "# Develop model.\n",
    "formula = 'Sleephours ~ Age + Gender + QuietTime + NChildren + StressLevel + JobStatus + NActivities + PastVac'\n",
    "fitted = smf.glm(formula=formula, data=sleep, family=sm.families.Gaussian()).fit()\n",
    "print(fitted.summary())\n",
    "fitloglike = (fitted.llf)\n",
    "print(f'Sigma of fitted model is {np.sqrt(fitted.scale)}.')"
   ]
  },
  {
   "cell_type": "code",
   "execution_count": 6,
   "metadata": {},
   "outputs": [],
   "source": [
    "# Null model.\n",
    "formula = 'Sleephours ~ 1'\n",
    "null = smf.glm(formula=formula, data=sleep, family=sm.families.Gaussian()).fit()\n",
    "nullloglike = (null.llf)"
   ]
  },
  {
   "cell_type": "markdown",
   "metadata": {},
   "source": [
    "Log likelihood."
   ]
  },
  {
   "cell_type": "code",
   "execution_count": 7,
   "metadata": {},
   "outputs": [
    {
     "name": "stdout",
     "output_type": "stream",
     "text": [
      "Deviance statistic is 36.79887401043901.\n",
      "p-value is 6.131066053782774e-05.\n"
     ]
    }
   ],
   "source": [
    "# Uses null and fitted log likelihoods to perform the deviance test.\n",
    "deviance= -2 * (nullloglike-(fitloglike))\n",
    "print(f\"Deviance statistic is {deviance}.\")\n",
    "# Chi2.cdf is from scipy.stats.\n",
    "from scipy.stats import chi2\n",
    "pvalue = 1 - chi2.cdf(deviance,10)\n",
    "print(f\"p-value is {pvalue}.\")"
   ]
  },
  {
   "cell_type": "markdown",
   "metadata": {},
   "source": [
    "Prediction."
   ]
  },
  {
   "cell_type": "code",
   "execution_count": 8,
   "metadata": {},
   "outputs": [
    {
     "name": "stdout",
     "output_type": "stream",
     "text": [
      "Predicted: 0    6.376164\n",
      "dtype: float64\n",
      "Predicted: 6.376164395018729\n"
     ]
    }
   ],
   "source": [
    "# Prediction.\n",
    "predict_val = pd.DataFrame(\n",
    "    {\"Age\" : 30, \"Gender\" : 'F', \"QuietTime\" : 10, \"NChildren\" : 3, \"StressLevel\" : 7, \"JobStatus\" : \"full\", \"NActivities\" : 7, \"PastVac\" : 12}, index=[0])\n",
    "predict_val = sm.add_constant(predict_val)\n",
    "# Simpler.\n",
    "print(f'Predicted: {fitted.predict(predict_val)}')\n",
    "\n",
    "# Isolated. This one grabs the item \"values\" from the array.\n",
    "print(f'Predicted: {fitted.predict(predict_val).values[0]}')"
   ]
  }
 ],
 "metadata": {
  "kernelspec": {
   "display_name": "regressions",
   "language": "python",
   "name": "python3"
  },
  "language_info": {
   "codemirror_mode": {
    "name": "ipython",
    "version": 3
   },
   "file_extension": ".py",
   "mimetype": "text/x-python",
   "name": "python",
   "nbconvert_exporter": "python",
   "pygments_lexer": "ipython3",
   "version": "3.11.5"
  },
  "orig_nbformat": 4
 },
 "nbformat": 4,
 "nbformat_minor": 2
}

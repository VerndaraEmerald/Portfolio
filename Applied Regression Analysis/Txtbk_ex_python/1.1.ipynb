{
 "cells": [
  {
   "cell_type": "markdown",
   "metadata": {},
   "source": [
    "Drawn from https://www.statsmodels.org/dev/examples/notebooks/generated/glm_formula.html."
   ]
  },
  {
   "cell_type": "code",
   "execution_count": 1,
   "metadata": {},
   "outputs": [],
   "source": [
    "# Summon libraries.\n",
    "import statsmodels.api as sm\n",
    "import statsmodels.formula.api as smf\n",
    "import pandas as pd\n",
    "import matplotlib\n",
    "import scipy\n",
    "import numpy as np"
   ]
  },
  {
   "cell_type": "markdown",
   "metadata": {},
   "source": [
    "Call data."
   ]
  },
  {
   "cell_type": "code",
   "execution_count": 8,
   "metadata": {},
   "outputs": [
    {
     "data": {
      "text/html": [
       "<div>\n",
       "<style scoped>\n",
       "    .dataframe tbody tr th:only-of-type {\n",
       "        vertical-align: middle;\n",
       "    }\n",
       "\n",
       "    .dataframe tbody tr th {\n",
       "        vertical-align: top;\n",
       "    }\n",
       "\n",
       "    .dataframe thead th {\n",
       "        text-align: right;\n",
       "    }\n",
       "</style>\n",
       "<table border=\"1\" class=\"dataframe\">\n",
       "  <thead>\n",
       "    <tr style=\"text-align: right;\">\n",
       "      <th></th>\n",
       "      <th>gender</th>\n",
       "      <th>age</th>\n",
       "      <th>educ</th>\n",
       "      <th>score</th>\n",
       "    </tr>\n",
       "  </thead>\n",
       "  <tbody>\n",
       "    <tr>\n",
       "      <th>0</th>\n",
       "      <td>M</td>\n",
       "      <td>53</td>\n",
       "      <td>doctoral</td>\n",
       "      <td>93</td>\n",
       "    </tr>\n",
       "    <tr>\n",
       "      <th>1</th>\n",
       "      <td>M</td>\n",
       "      <td>48</td>\n",
       "      <td>bachelor</td>\n",
       "      <td>66</td>\n",
       "    </tr>\n",
       "    <tr>\n",
       "      <th>2</th>\n",
       "      <td>M</td>\n",
       "      <td>47</td>\n",
       "      <td>master</td>\n",
       "      <td>82</td>\n",
       "    </tr>\n",
       "    <tr>\n",
       "      <th>3</th>\n",
       "      <td>M</td>\n",
       "      <td>34</td>\n",
       "      <td>bachelor</td>\n",
       "      <td>95</td>\n",
       "    </tr>\n",
       "    <tr>\n",
       "      <th>4</th>\n",
       "      <td>F</td>\n",
       "      <td>35</td>\n",
       "      <td>master</td>\n",
       "      <td>78</td>\n",
       "    </tr>\n",
       "  </tbody>\n",
       "</table>\n",
       "</div>"
      ],
      "text/plain": [
       "  gender  age      educ  score\n",
       "0      M   53  doctoral     93\n",
       "1      M   48  bachelor     66\n",
       "2      M   47    master     82\n",
       "3      M   34  bachelor     95\n",
       "4      F   35    master     78"
      ]
     },
     "execution_count": 8,
     "metadata": {},
     "output_type": "execute_result"
    }
   ],
   "source": [
    "# Call data. Uses PANDAS.\n",
    "job_sat = pd.read_csv('../Data/Example1.1Data.csv')\n",
    "job_sat.head(5)"
   ]
  },
  {
   "cell_type": "markdown",
   "metadata": {},
   "source": [
    "Normality.\n",
    "https://machinelearningmastery.com/a-gentle-introduction-to-normality-tests-in-python/"
   ]
  },
  {
   "cell_type": "code",
   "execution_count": null,
   "metadata": {},
   "outputs": [
    {
     "data": {
      "image/png": "[encoded data removed]",
      "text/plain": [
       "<Figure size 640x480 with 1 Axes>"
      ]
     },
     "metadata": {},
     "output_type": "display_data"
    },
    {
     "name": "stdout",
     "output_type": "stream",
     "text": [
      "Anderson-Darling test statistic: 0.426\n",
      "Shapiro-Wilks test statistic: 0.974 \n",
      "Shapiro-Wilks p-value: 0.371\n"
     ]
    }
   ],
   "source": [
    "# Sets the y-value to the y-value[name] for normality tests.\n",
    "y_val = job_sat[\"score\"]\n",
    "\n",
    "from matplotlib import pyplot\n",
    "# Summon histogram. Uses matplotlib.\n",
    "pyplot.hist(y_val)\n",
    "pyplot.show()\n",
    "\n",
    "# Uses scipy.stats for an Anderson-Darling test.\n",
    "from scipy.stats import anderson\n",
    "# Assign result from an Anderson-Darling test using the y-value.\n",
    "result = anderson(y_val)\n",
    "# Dump out result's test statistic.\n",
    "print(f'Anderson-Darling test statistic: {result.statistic:.3f}')\n",
    "\n",
    "# Uses scipy.stats for a Shapiro-Wilks test.\n",
    "from scipy.stats import shapiro\n",
    "# Assign results from a Shapiro-Wilks test using the y-value.\n",
    "statistic, p_value = shapiro(y_val)\n",
    "print(f\"\"\"Shapiro-Wilks test statistic: {statistic:.3f} \n",
    "Shapiro-Wilks p-value: {p_value:.3f}\"\"\")"
   ]
  },
  {
   "cell_type": "markdown",
   "metadata": {},
   "source": [
    "Develop models."
   ]
  },
  {
   "cell_type": "code",
   "execution_count": null,
   "metadata": {},
   "outputs": [
    {
     "name": "stdout",
     "output_type": "stream",
     "text": [
      "                 Generalized Linear Model Regression Results                  \n",
      "==============================================================================\n",
      "Dep. Variable:                  score   No. Observations:                   48\n",
      "Model:                            GLM   Df Residuals:                       43\n",
      "Model Family:                Gaussian   Df Model:                            4\n",
      "Link Function:               Identity   Scale:                          120.52\n",
      "Method:                          IRLS   Log-Likelihood:                -180.47\n",
      "Date:                Sun, 22 Oct 2023   Deviance:                       5182.2\n",
      "Time:                        02:54:34   Pearson chi2:                 5.18e+03\n",
      "No. Iterations:                     3   Pseudo R-squ. (CS):             0.2489\n",
      "Covariance Type:            nonrobust                                         \n",
      "============================================================================================================\n",
      "                                               coef    std err          z      P>|z|      [0.025      0.975]\n",
      "------------------------------------------------------------------------------------------------------------\n",
      "Intercept                                   84.2229      6.377     13.206      0.000      71.723      96.723\n",
      "C(gender, Treatment(\"F\"))[T.M]               7.4876      3.356      2.231      0.026       0.910      14.065\n",
      "C(educ, Treatment(\"master\"))[T.bachelor]     3.8754      3.745      1.035      0.301      -3.465      11.216\n",
      "C(educ, Treatment(\"master\"))[T.doctoral]     7.5983      6.178      1.230      0.219      -4.509      19.706\n",
      "age                                         -0.3330      0.153     -2.174      0.030      -0.633      -0.033\n",
      "============================================================================================================\n",
      "Sigma of fitted model is 10.978012104580362.\n"
     ]
    }
   ],
   "source": [
    "# Develop model.\n",
    "formula = 'score ~ age + C(gender,Treatment(\"F\")) + C(educ,Treatment(\"master\"))'\n",
    "fitted = smf.glm(formula=formula, data=job_sat, family=sm.families.Gaussian()).fit()\n",
    "print(fitted.summary())\n",
    "fitloglike = (fitted.llf)\n",
    "print(f'Sigma of fitted model is {np.sqrt(fitted.scale)}.')"
   ]
  },
  {
   "cell_type": "code",
   "execution_count": null,
   "metadata": {},
   "outputs": [],
   "source": [
    "# Null model.\n",
    "formula = 'score ~ 1'\n",
    "null = smf.glm(formula=formula, data=job_sat, family=sm.families.Gaussian()).fit()\n",
    "nullloglike = (null.llf)"
   ]
  },
  {
   "cell_type": "markdown",
   "metadata": {},
   "source": [
    "Log likelihood. Found the names through dir() https://stackoverflow.com/questions/2675028/list-attributes-of-an-object."
   ]
  },
  {
   "cell_type": "code",
   "execution_count": null,
   "metadata": {},
   "outputs": [
    {
     "name": "stdout",
     "output_type": "stream",
     "text": [
      "Deviance statistic is 13.06871253851017.\n",
      "p-value is 0.010944886994533443.\n"
     ]
    }
   ],
   "source": [
    "# Uses null and fitted log likelihoods to perform the deviance test.\n",
    "deviance= -2 * (nullloglike-(fitloglike))\n",
    "print(f\"Deviance statistic is {deviance}.\")\n",
    "# Chi2.cdf is from scipy.stats.\n",
    "from scipy.stats import chi2\n",
    "pvalue = 1 - chi2.cdf(deviance,4)\n",
    "print(f\"p-value is {pvalue}.\")"
   ]
  },
  {
   "cell_type": "markdown",
   "metadata": {},
   "source": [
    "Prediction. https://www.statology.org/statsmodels-predict/"
   ]
  },
  {
   "cell_type": "code",
   "execution_count": null,
   "metadata": {},
   "outputs": [
    {
     "data": {
      "text/plain": [
       "0    74.78019\n",
       "dtype: float64"
      ]
     },
     "execution_count": 50,
     "metadata": {},
     "output_type": "execute_result"
    }
   ],
   "source": [
    "# Prediction.\n",
    "predict_val = pd.DataFrame(\n",
    "    {\"age\" : 40, \"gender\" : 'F', \"educ\" : 'bachelor'}, index=[0])\n",
    "predict_val = sm.add_constant(predict_val)\n",
    "fitted.predict(predict_val)"
   ]
  }
 ],
 "metadata": {
  "kernelspec": {
   "display_name": "regressions",
   "language": "python",
   "name": "python3"
  },
  "language_info": {
   "codemirror_mode": {
    "name": "ipython",
    "version": 3
   },
   "file_extension": ".py",
   "mimetype": "text/x-python",
   "name": "python",
   "nbconvert_exporter": "python",
   "pygments_lexer": "ipython3",
   "version": "3.11.5"
  },
  "orig_nbformat": 4
 },
 "nbformat": 4,
 "nbformat_minor": 2
}

{
 "cells": [
  {
   "cell_type": "markdown",
   "metadata": {},
   "source": [
    "Summon libraries."
   ]
  },
  {
   "cell_type": "code",
   "execution_count": 95,
   "metadata": {},
   "outputs": [],
   "source": [
    "# Summon libraries.\n",
    "import statsmodels.api as sm\n",
    "from statsmodels.miscmodels.ordinal_model import OrderedModel as OrdModel\n",
    "import pandas as pd\n",
    "from pandas import Series as ser\n",
    "from pandas import Categorical as cat\n",
    "from scipy import stats\n",
    "import numpy as np"
   ]
  },
  {
   "cell_type": "markdown",
   "metadata": {},
   "source": [
    "Call and work data."
   ]
  },
  {
   "cell_type": "code",
   "execution_count": 96,
   "metadata": {},
   "outputs": [],
   "source": [
    "# Call data. Uses PANDAS.\n",
    "admissions = pd.read_csv('.\\data\\math dept.csv')"
   ]
  },
  {
   "cell_type": "code",
   "execution_count": 97,
   "metadata": {},
   "outputs": [],
   "source": [
    "# Set admission categories.\n",
    "admissions['Status'] = pd.Categorical(admissions.Status)\n",
    "admissions['Status'] = admissions.Status.cat.reorder_categories(['Enrolled','Admitted','Applied'], ordered = True)\n",
    "# Merge two or more races, unknown, and visas.\n",
    "mapping = {'Two or More Races' : 'Other', 'Unknown' : 'Other', 'Visa Non-U.S.' : 'Other'}\n",
    "admissions['Ethnicity'] = admissions['Ethnicity'].replace(mapping)\n",
    "# Discard unknown genders.\n",
    "admissions = admissions[admissions['Sex'] != 'Unknown']\n",
    "# Since each model has identical formula, develop it once.\n",
    "formula = 'Status ~ HS_GPA + C(Major,Treatment(\"Pre-Applied Statistics\")) + C(Ethnicity,Treatment(\"White\")) + C(Sex,Treatment(\"Female\")) + C(Local,Treatment(\"Non-Local\"))'"
   ]
  },
  {
   "cell_type": "markdown",
   "metadata": {},
   "source": [
    "## Logit"
   ]
  },
  {
   "cell_type": "markdown",
   "metadata": {},
   "source": [
    "Logit models."
   ]
  },
  {
   "cell_type": "code",
   "execution_count": 98,
   "metadata": {},
   "outputs": [
    {
     "name": "stdout",
     "output_type": "stream",
     "text": [
      "                             OrderedModel Results                             \n",
      "==============================================================================\n",
      "Dep. Variable:                 Status   Log-Likelihood:                -515.71\n",
      "Model:                   OrderedModel   AIC:                             1055.\n",
      "Method:            Maximum Likelihood   BIC:                             1110.\n",
      "Date:                Sun, 03 Dec 2023                                         \n",
      "Time:                        02:06:04                                         \n",
      "No. Observations:                 719                                         \n",
      "Df Residuals:                     707                                         \n",
      "Df Model:                          10                                         \n",
      "=======================================================================================================================================\n",
      "                                                                          coef    std err          z      P>|z|      [0.025      0.975]\n",
      "---------------------------------------------------------------------------------------------------------------------------------------\n",
      "C(Major, Treatment(\"Pre-Applied Statistics\"))[T.Pre-Math Applied]      -0.4488      0.268     -1.675      0.094      -0.974       0.076\n",
      "C(Major, Treatment(\"Pre-Applied Statistics\"))[T.Pre-Math Education]    -0.3372      0.272     -1.241      0.214      -0.869       0.195\n",
      "C(Major, Treatment(\"Pre-Applied Statistics\"))[T.Pre-Mathematics]       -0.0820      0.263     -0.312      0.755      -0.597       0.433\n",
      "C(Ethnicity, Treatment(\"White\"))[T.Asian]                              -0.2858      0.261     -1.094      0.274      -0.798       0.226\n",
      "C(Ethnicity, Treatment(\"White\"))[T.Black or African American]          -0.2179      0.595     -0.366      0.714      -1.385       0.949\n",
      "C(Ethnicity, Treatment(\"White\"))[T.Hispanic]                           -0.2978      0.243     -1.225      0.221      -0.774       0.179\n",
      "C(Ethnicity, Treatment(\"White\"))[T.Other]                              -0.3252      0.357     -0.911      0.362      -1.025       0.374\n",
      "C(Sex, Treatment(\"Female\"))[T.Male]                                    -0.1100      0.172     -0.639      0.523      -0.447       0.227\n",
      "C(Local, Treatment(\"Non-Local\"))[T.Local]                              -2.2804      0.297     -7.677      0.000      -2.863      -1.698\n",
      "HS_GPA                                                                 -3.3296      0.261    -12.773      0.000      -3.841      -2.819\n",
      "Enrolled/Admitted                                                     -16.4356      1.168    -14.066      0.000     -18.726     -14.145\n",
      "Admitted/Applied                                                        1.3079      0.047     27.642      0.000       1.215       1.401\n",
      "=======================================================================================================================================\n",
      "The actual thresholds are [        -inf -16.43556198 -12.73717315          inf]\n"
     ]
    }
   ],
   "source": [
    "# Create formula, then create the model and output the model.\n",
    "fitted_logit_f = OrdModel.from_formula(formula, admissions, distr = \"logit\")\n",
    "fitted_logit = fitted_logit_f.fit(method='bfgs', disp=False)\n",
    "print(fitted_logit.summary())\n",
    "\n",
    "# Untransform models.\n",
    "num_of_thresholds = 2\n",
    "print(f\"The actual thresholds are {fitted_logit_f.transform_threshold_params(fitted_logit.params[-num_of_thresholds:])}\")"
   ]
  },
  {
   "cell_type": "code",
   "execution_count": 99,
   "metadata": {},
   "outputs": [],
   "source": [
    "# The three models don't vary in how many parameters they produce, \n",
    "# Thus, we can set model_param to count the number of parameters by fitted_logit.params.\n",
    "# Pull df_model for degrees of freedom.\n",
    "model_param = (fitted_logit.params).count()\n",
    "deg_free = fitted_logit.df_model"
   ]
  },
  {
   "cell_type": "markdown",
   "metadata": {},
   "source": [
    "Logit AIC, BIC, AICC."
   ]
  },
  {
   "cell_type": "code",
   "execution_count": 100,
   "metadata": {},
   "outputs": [],
   "source": [
    "# AIC, BIC are built into the regression. \n",
    "# AICC needs to be developed.\n",
    "aic_logit = fitted_logit.aic\n",
    "aicc_logit = sm.tools.eval_measures.aicc(\n",
    "# Value of log likelihood function.\n",
    "    fitted_logit.llf,\n",
    "# Number of observations.\n",
    "    fitted_logit.nobs,\n",
    "    model_param)\n",
    "bic_logit = fitted_logit.bic"
   ]
  },
  {
   "cell_type": "markdown",
   "metadata": {},
   "source": [
    "Logit log likelihood."
   ]
  },
  {
   "cell_type": "code",
   "execution_count": 101,
   "metadata": {},
   "outputs": [],
   "source": [
    "# Pull null log likelihood function from initial model.\n",
    "nullloglike_logit = (fitted_logit.llnull)"
   ]
  },
  {
   "cell_type": "code",
   "execution_count": 102,
   "metadata": {},
   "outputs": [
    {
     "name": "stdout",
     "output_type": "stream",
     "text": [
      "Deviance statistic is 319.51611773949.\n",
      "p-value is 0.0.\n"
     ]
    }
   ],
   "source": [
    "# Uses null and fitted log likelihoods to perform the deviance test.\n",
    "deviance= -2 * (fitted_logit.llnull-(fitted_logit.llf))\n",
    "print(f\"Deviance statistic is {deviance}.\")\n",
    "# Chi2.cdf is from scipy.stats.\n",
    "from scipy.stats import chi2\n",
    "pvalue = 1 - chi2.cdf(deviance,deg_free)\n",
    "print(f\"p-value is {pvalue}.\")"
   ]
  },
  {
   "cell_type": "markdown",
   "metadata": {},
   "source": [
    "Logit prediction."
   ]
  },
  {
   "cell_type": "code",
   "execution_count": 103,
   "metadata": {},
   "outputs": [
    {
     "name": "stdout",
     "output_type": "stream",
     "text": [
      "Predicted: [0.06101266 0.66304283 0.27594451]\n"
     ]
    }
   ],
   "source": [
    "# Prediction.\n",
    "predict_val = pd.DataFrame(\n",
    "    {\"HS_GPA\" : 3.54, \"Major\" : \"Pre-Math Education\", \"Ethnicity\" :  \"White\", \"Sex\": \"Female\", \"Local\": \"Non-Local\"}, index=[0])\n",
    "predict_val = sm.add_constant(predict_val)\n",
    "\n",
    "# Isolated. This one grabs the item \"values\" from the array.\n",
    "print(f'Predicted: {fitted_logit.predict(predict_val).values[0]}')"
   ]
  },
  {
   "cell_type": "markdown",
   "metadata": {},
   "source": [
    "## Probit"
   ]
  },
  {
   "cell_type": "markdown",
   "metadata": {},
   "source": [
    "Probit models."
   ]
  },
  {
   "cell_type": "code",
   "execution_count": 104,
   "metadata": {},
   "outputs": [
    {
     "name": "stdout",
     "output_type": "stream",
     "text": [
      "                             OrderedModel Results                             \n",
      "==============================================================================\n",
      "Dep. Variable:                 Status   Log-Likelihood:                -530.67\n",
      "Model:                   OrderedModel   AIC:                             1085.\n",
      "Method:            Maximum Likelihood   BIC:                             1140.\n",
      "Date:                Sun, 03 Dec 2023                                         \n",
      "Time:                        02:06:04                                         \n",
      "No. Observations:                 719                                         \n",
      "Df Residuals:                     707                                         \n",
      "Df Model:                          10                                         \n",
      "=======================================================================================================================================\n",
      "                                                                          coef    std err          z      P>|z|      [0.025      0.975]\n",
      "---------------------------------------------------------------------------------------------------------------------------------------\n",
      "C(Major, Treatment(\"Pre-Applied Statistics\"))[T.Pre-Math Applied]      -0.2801      0.150     -1.861      0.063      -0.575       0.015\n",
      "C(Major, Treatment(\"Pre-Applied Statistics\"))[T.Pre-Math Education]    -0.1359      0.152     -0.895      0.371      -0.433       0.162\n",
      "C(Major, Treatment(\"Pre-Applied Statistics\"))[T.Pre-Mathematics]       -0.0269      0.147     -0.183      0.855      -0.316       0.262\n",
      "C(Ethnicity, Treatment(\"White\"))[T.Asian]                              -0.1536      0.148     -1.041      0.298      -0.443       0.136\n",
      "C(Ethnicity, Treatment(\"White\"))[T.Black or African American]          -0.0702      0.342     -0.205      0.837      -0.740       0.600\n",
      "C(Ethnicity, Treatment(\"White\"))[T.Hispanic]                           -0.2100      0.137     -1.536      0.125      -0.478       0.058\n",
      "C(Ethnicity, Treatment(\"White\"))[T.Other]                              -0.1562      0.202     -0.775      0.438      -0.551       0.239\n",
      "C(Sex, Treatment(\"Female\"))[T.Male]                                    -0.0438      0.096     -0.458      0.647      -0.231       0.144\n",
      "C(Local, Treatment(\"Non-Local\"))[T.Local]                              -1.2715      0.158     -8.032      0.000      -1.582      -0.961\n",
      "HS_GPA                                                                 -1.7291      0.131    -13.230      0.000      -1.985      -1.473\n",
      "Enrolled/Admitted                                                      -8.5868      0.581    -14.778      0.000      -9.726      -7.448\n",
      "Admitted/Applied                                                        0.7119      0.042     16.982      0.000       0.630       0.794\n",
      "=======================================================================================================================================\n",
      "The actual thresholds are [       -inf -8.58679144 -6.5488805          inf]\n"
     ]
    }
   ],
   "source": [
    "# Create formula, then create the model and output the model.\n",
    "fitted_probit_f = OrdModel.from_formula(formula, admissions, distr = \"probit\")\n",
    "fitted_probit = fitted_probit_f.fit(method='bfgs', disp=False)\n",
    "print(fitted_probit.summary())\n",
    "\n",
    "# Untransform models.\n",
    "num_of_thresholds = 2\n",
    "print(f\"The actual thresholds are {fitted_probit_f.transform_threshold_params(fitted_probit.params[-num_of_thresholds:])}\")"
   ]
  },
  {
   "cell_type": "markdown",
   "metadata": {},
   "source": [
    "Probit AIC, BIC, AICC."
   ]
  },
  {
   "cell_type": "code",
   "execution_count": 105,
   "metadata": {},
   "outputs": [],
   "source": [
    "# AIC, BIC are built into the regression. \n",
    "# AICC needs to be developed.\n",
    "aic_probit = fitted_probit.aic\n",
    "aicc_probit = sm.tools.eval_measures.aicc(\n",
    "# Value of log likelihood function.\n",
    "    fitted_probit.llf,\n",
    "# Number of observations.\n",
    "    fitted_probit.nobs,\n",
    "    model_param)\n",
    "bic_probit = fitted_probit.bic"
   ]
  },
  {
   "cell_type": "markdown",
   "metadata": {},
   "source": [
    "Probit log likelihood."
   ]
  },
  {
   "cell_type": "code",
   "execution_count": 106,
   "metadata": {},
   "outputs": [],
   "source": [
    "# Pull null log likelihood function from initial model.\n",
    "nullloglike_probit = (fitted_probit.llnull)"
   ]
  },
  {
   "cell_type": "code",
   "execution_count": 107,
   "metadata": {},
   "outputs": [
    {
     "name": "stdout",
     "output_type": "stream",
     "text": [
      "Deviance statistic is 289.58490106782347.\n",
      "p-value is 0.0.\n"
     ]
    }
   ],
   "source": [
    "# Uses null and fitted log likelihoods to perform the deviance test.\n",
    "deviance= -2 * (fitted_probit.llnull-(fitted_probit.llf))\n",
    "print(f\"Deviance statistic is {deviance}.\")\n",
    "# Chi2.cdf is from scipy.stats.\n",
    "from scipy.stats import chi2\n",
    "pvalue = 1 - chi2.cdf(deviance,deg_free)\n",
    "print(f\"p-value is {pvalue}.\")"
   ]
  },
  {
   "cell_type": "markdown",
   "metadata": {},
   "source": [
    "Probit prediction."
   ]
  },
  {
   "cell_type": "code",
   "execution_count": 108,
   "metadata": {},
   "outputs": [
    {
     "name": "stdout",
     "output_type": "stream",
     "text": [
      "Predicted: [0.08377838 0.66089276 0.25532886]\n"
     ]
    }
   ],
   "source": [
    "# Prediction.\n",
    "predict_val = pd.DataFrame(\n",
    "    {\"HS_GPA\" : 3.54, \"Major\" : \"Pre-Math Education\", \"Ethnicity\" :  \"White\", \"Sex\": \"Female\", \"Local\": \"Non-Local\"}, index=[0])\n",
    "predict_val = sm.add_constant(predict_val)\n",
    "\n",
    "# Isolated. This one grabs the item \"values\" from the array.\n",
    "print(f'Predicted: {fitted_probit.predict(predict_val).values[0]}')"
   ]
  },
  {
   "cell_type": "markdown",
   "metadata": {},
   "source": [
    "## Cloglog"
   ]
  },
  {
   "cell_type": "markdown",
   "metadata": {},
   "source": [
    "Cloglog models."
   ]
  },
  {
   "cell_type": "code",
   "execution_count": 109,
   "metadata": {},
   "outputs": [],
   "source": [
    "# Develop cloglog.\n",
    "class cloglog(stats.rv_continuous):\n",
    "    def _ppf(self, q):\n",
    "        return np.log(-np.log(1 - q))\n",
    "\n",
    "    def _cdf(self, x):\n",
    "        return 1 - np.exp(-np.exp(x))\n",
    "\n",
    "cloglog = cloglog()"
   ]
  },
  {
   "cell_type": "code",
   "execution_count": 110,
   "metadata": {},
   "outputs": [
    {
     "name": "stdout",
     "output_type": "stream",
     "text": [
      "                             OrderedModel Results                             \n",
      "==============================================================================\n",
      "Dep. Variable:                 Status   Log-Likelihood:                -486.85\n",
      "Model:                   OrderedModel   AIC:                             997.7\n",
      "Method:            Maximum Likelihood   BIC:                             1053.\n",
      "Date:                Sun, 03 Dec 2023                                         \n",
      "Time:                        02:06:05                                         \n",
      "No. Observations:                 719                                         \n",
      "Df Residuals:                     707                                         \n",
      "Df Model:                          10                                         \n",
      "=======================================================================================================================================\n",
      "                                                                          coef    std err          z      P>|z|      [0.025      0.975]\n",
      "---------------------------------------------------------------------------------------------------------------------------------------\n",
      "C(Major, Treatment(\"Pre-Applied Statistics\"))[T.Pre-Math Applied]      -0.2925      0.179     -1.637      0.102      -0.643       0.058\n",
      "C(Major, Treatment(\"Pre-Applied Statistics\"))[T.Pre-Math Education]    -0.1283      0.178     -0.720      0.471      -0.478       0.221\n",
      "C(Major, Treatment(\"Pre-Applied Statistics\"))[T.Pre-Mathematics]       -0.0063      0.174     -0.036      0.971      -0.348       0.335\n",
      "C(Ethnicity, Treatment(\"White\"))[T.Asian]                              -0.1075      0.174     -0.616      0.538      -0.449       0.234\n",
      "C(Ethnicity, Treatment(\"White\"))[T.Black or African American]          -0.2808      0.428     -0.656      0.512      -1.119       0.558\n",
      "C(Ethnicity, Treatment(\"White\"))[T.Hispanic]                           -0.1763      0.162     -1.085      0.278      -0.495       0.142\n",
      "C(Ethnicity, Treatment(\"White\"))[T.Other]                              -0.1931      0.236     -0.819      0.413      -0.655       0.269\n",
      "C(Sex, Treatment(\"Female\"))[T.Male]                                     0.0302      0.114      0.266      0.790      -0.192       0.253\n",
      "C(Local, Treatment(\"Non-Local\"))[T.Local]                              -1.3819      0.200     -6.924      0.000      -1.773      -0.991\n",
      "HS_GPA                                                                 -2.5855      0.188    -13.779      0.000      -2.953      -2.218\n",
      "Enrolled/Admitted                                                     -12.9861      0.832    -15.606      0.000     -14.617     -11.355\n",
      "Admitted/Applied                                                        1.0336      0.047     21.841      0.000       0.941       1.126\n",
      "=======================================================================================================================================\n",
      "The actual thresholds are [        -inf -12.98609494 -10.17495705          inf]\n"
     ]
    }
   ],
   "source": [
    "# Create formula, create the model, and output the model.\n",
    "fitted_cloglog_f = OrdModel.from_formula(formula, admissions, distr = cloglog)\n",
    "fitted_cloglog = fitted_cloglog_f.fit(method='bfgs', disp=False)\n",
    "print(fitted_cloglog.summary())\n",
    "\n",
    "# Untransform models.\n",
    "num_of_thresholds = 2\n",
    "print(f\"The actual thresholds are {fitted_cloglog_f.transform_threshold_params(fitted_cloglog.params[-num_of_thresholds:])}\")"
   ]
  },
  {
   "cell_type": "markdown",
   "metadata": {},
   "source": [
    "Cloglog AIC, BIC, AICC."
   ]
  },
  {
   "cell_type": "code",
   "execution_count": 111,
   "metadata": {},
   "outputs": [],
   "source": [
    "# AIC, BIC are built into the regression. \n",
    "# AICC needs to be developed.\n",
    "aic_cloglog = fitted_cloglog.aic\n",
    "aicc_cloglog = sm.tools.eval_measures.aicc(\n",
    "# Value of log likelihood function.\n",
    "    fitted_cloglog.llf,\n",
    "# Number of observations.\n",
    "    fitted_cloglog.nobs,\n",
    "    model_param)\n",
    "bic_cloglog = fitted_cloglog.bic"
   ]
  },
  {
   "cell_type": "markdown",
   "metadata": {},
   "source": [
    "Cloglog log likelihood."
   ]
  },
  {
   "cell_type": "code",
   "execution_count": 112,
   "metadata": {},
   "outputs": [],
   "source": [
    "# Pull null log likelihood function from initial model.\n",
    "nullloglike_cloglog = (fitted_cloglog.llnull)"
   ]
  },
  {
   "cell_type": "code",
   "execution_count": 113,
   "metadata": {},
   "outputs": [
    {
     "name": "stdout",
     "output_type": "stream",
     "text": [
      "Deviance statistic is 377.2318682908243.\n",
      "p-value is 0.0.\n"
     ]
    }
   ],
   "source": [
    "# Uses null and fitted log likelihoods to perform the deviance test.\n",
    "deviance= -2 * (fitted_cloglog.llnull-(fitted_cloglog.llf))\n",
    "print(f\"Deviance statistic is {deviance}.\")\n",
    "# Chi2.cdf is from scipy.stats.\n",
    "from scipy.stats import chi2\n",
    "pvalue = 1 - chi2.cdf(deviance,deg_free)\n",
    "print(f\"p-value is {pvalue}.\")"
   ]
  },
  {
   "cell_type": "markdown",
   "metadata": {},
   "source": [
    "Cloglog prediction."
   ]
  },
  {
   "cell_type": "code",
   "execution_count": 114,
   "metadata": {},
   "outputs": [
    {
     "name": "stdout",
     "output_type": "stream",
     "text": [
      "Predicted: [0.02430106 0.31144394 0.664255  ]\n"
     ]
    }
   ],
   "source": [
    "# Prediction.\n",
    "predict_val = pd.DataFrame(\n",
    "    {\"HS_GPA\" : 3.54, \"Major\" : \"Pre-Math Education\", \"Ethnicity\" :  \"White\", \"Sex\": \"Female\", \"Local\": \"Non-Local\"}, index=[0])\n",
    "predict_val = sm.add_constant(predict_val)\n",
    "\n",
    "# Isolated. This one grabs the item \"values\" from the array.\n",
    "print(f'Predicted: {fitted_cloglog.predict(predict_val).values[0]}')"
   ]
  },
  {
   "cell_type": "markdown",
   "metadata": {},
   "source": [
    "## Model comparisons."
   ]
  },
  {
   "cell_type": "code",
   "execution_count": 115,
   "metadata": {},
   "outputs": [
    {
     "data": {
      "text/html": [
       "<div>\n",
       "<style scoped>\n",
       "    .dataframe tbody tr th:only-of-type {\n",
       "        vertical-align: middle;\n",
       "    }\n",
       "\n",
       "    .dataframe tbody tr th {\n",
       "        vertical-align: top;\n",
       "    }\n",
       "\n",
       "    .dataframe thead th {\n",
       "        text-align: right;\n",
       "    }\n",
       "</style>\n",
       "<table border=\"1\" class=\"dataframe\">\n",
       "  <thead>\n",
       "    <tr style=\"text-align: right;\">\n",
       "      <th></th>\n",
       "      <th>AIC</th>\n",
       "      <th>AICC</th>\n",
       "      <th>BIC</th>\n",
       "    </tr>\n",
       "  </thead>\n",
       "  <tbody>\n",
       "    <tr>\n",
       "      <th>logit</th>\n",
       "      <td>1055.416336</td>\n",
       "      <td>1055.858263</td>\n",
       "      <td>1110.350673</td>\n",
       "    </tr>\n",
       "    <tr>\n",
       "      <th>logit</th>\n",
       "      <td>1055.416336</td>\n",
       "      <td>1055.858263</td>\n",
       "      <td>1110.350673</td>\n",
       "    </tr>\n",
       "    <tr>\n",
       "      <th>cloglog</th>\n",
       "      <td>997.700586</td>\n",
       "      <td>998.142512</td>\n",
       "      <td>1052.634922</td>\n",
       "    </tr>\n",
       "  </tbody>\n",
       "</table>\n",
       "</div>"
      ],
      "text/plain": [
       "                 AIC         AICC          BIC\n",
       "logit    1055.416336  1055.858263  1110.350673\n",
       "logit    1055.416336  1055.858263  1110.350673\n",
       "cloglog   997.700586   998.142512  1052.634922"
      ]
     },
     "execution_count": 115,
     "metadata": {},
     "output_type": "execute_result"
    }
   ],
   "source": [
    "data = [[aic_logit,aicc_logit,bic_logit],\n",
    "        [aic_logit,aicc_logit,bic_logit],\n",
    "        [aic_cloglog,aicc_cloglog,bic_cloglog]]\n",
    "\n",
    "comparison = pd.DataFrame(data,\n",
    "                          columns = ['AIC','AICC','BIC'],\n",
    "                          index = ['logit','logit','cloglog'])\n",
    "\n",
    "comparison"
   ]
  },
  {
   "cell_type": "markdown",
   "metadata": {},
   "source": [
    "Automated comparison."
   ]
  },
  {
   "cell_type": "code",
   "execution_count": 117,
   "metadata": {},
   "outputs": [
    {
     "name": "stdout",
     "output_type": "stream",
     "text": [
      "The model with the best fit is the cumulative cloglog model.\n"
     ]
    }
   ],
   "source": [
    "# Initialize.\n",
    "logit = 0\n",
    "logit = 0\n",
    "cloglog = 0 \n",
    "\n",
    "# Runs through all 3 columns.\n",
    "# If column has lowest value, that model +1 point.\n",
    "# Model with highest points is declared at end.\n",
    "def points(cur_min,logit,probit,cloglog):\n",
    "        if cur_min == \"logit\":\n",
    "                logit += 1\n",
    "        elif cur_min == \"logit\":\n",
    "                logit += 1\n",
    "        else:\n",
    "                cloglog += 1 \n",
    "        return(logit,logit,cloglog)\n",
    "\n",
    "# Runs through the models.\n",
    "cur_min = comparison['AIC'].idxmin()\n",
    "logit,logit,cloglog = points(cur_min,logit,logit,cloglog)\n",
    "cur_min = comparison['AICC'].idxmin()\n",
    "logit,logit,cloglog = points(cur_min,logit,logit,cloglog)\n",
    "cur_min = comparison['BIC'].idxmin()\n",
    "logit,logit,cloglog = points(cur_min,logit,logit,cloglog)\n",
    "\n",
    "final = {logit:\"logit\",logit:\"logit\",cloglog:\"cloglog\"}\n",
    "\n",
    "print(f\"The model with the best fit is the cumulative {final.get(max(final))} model.\")"
   ]
  }
 ],
 "metadata": {
  "kernelspec": {
   "display_name": "regressions",
   "language": "python",
   "name": "python3"
  },
  "language_info": {
   "codemirror_mode": {
    "name": "ipython",
    "version": 3
   },
   "file_extension": ".py",
   "mimetype": "text/x-python",
   "name": "python",
   "nbconvert_exporter": "python",
   "pygments_lexer": "ipython3",
   "version": "3.11.5"
  },
  "orig_nbformat": 4
 },
 "nbformat": 4,
 "nbformat_minor": 2
}
